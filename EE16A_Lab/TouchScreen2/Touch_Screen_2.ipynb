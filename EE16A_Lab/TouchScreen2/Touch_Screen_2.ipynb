{
 "cells": [
  {
   "cell_type": "markdown",
   "metadata": {},
   "source": [
    "# Touch Screen Lab 2: Resistive Touch Screen\n",
    "\n",
    "### EECS 16A: Designing Information Devices and Systems I, Spring 2017"
   ]
  },
  {
   "cell_type": "markdown",
   "metadata": {},
   "source": [
    "**Name 1**:\n",
    "\n",
    "**Login**: ee16a-\n",
    "\n",
    "\n",
    "**Name 2**:\n",
    "\n",
    "**Login**: ee16a-"
   ]
  },
  {
   "cell_type": "markdown",
   "metadata": {},
   "source": [
    "## Table of Contents\n",
    "\n",
    "* [Instructions](#instructions)\n",
    "* [Introduction](#intro1)\n",
    "* [Touch Screen Theory](#tst)\n",
    "* [Task 1: Touch Screen Construction](#task6)\n",
    "    * [Task 1a: Assembling the Bottom Mesh](#task1a)\n",
    "    * [Task 1b: Assembling the Top Mesh](#task1b)\n",
    "* [Multimeter Overview](#multi)\n",
    "* [Task 2: Testing the Circuit](#task2)\n",
    "* [Task 3: Touch Screen Processing](#task3)"
   ]
  },
  {
   "cell_type": "markdown",
   "metadata": {},
   "source": [
    "<a id='instructions'></a>\n",
    "## Instructions\n",
    "* Complete this lab by filling in all of the required sections, marked with `\"YOUR CODE HERE\"` or `\"YOUR COMMENTS HERE\"`.\n",
    "\n",
    "* When you finish notify your GSI to get checked off for this lab. Be ready to answer a few questions to show your understanding of each section.\n",
    "\n",
    "* Labs will be graded based on completion for teams of 2 students"
   ]
  },
  {
   "cell_type": "markdown",
   "metadata": {},
   "source": [
    "<a id='policies'></a>\n",
    "## Lab Policies\n",
    "* YOU MUST ATTEND THE LAB SECTION YOU ARE ENROLLED IN. If you anticipate missing a section please notify your GSI in advance.\n",
    "\n",
    "* You are required to return all parts checked out at the beginning of the lab section unless told otherwise.\n",
    "\n",
    "* You are free to stay for the full alloted time and hack around with the lab equipment, but please keep the GSI's time in mind and do not work on unrelated assignments.\n",
    "\n",
    "* ** Food and drinks are not allowed in the lab.**\n",
    "\n",
    "* **Clean up, turn off all equipment, and log off of computers before leaving.**"
   ]
  },
  {
   "cell_type": "markdown",
   "metadata": {},
   "source": [
    "<a id='intro1'></a>\n",
    "## Introduction\n",
    "In this lab you will build a resistive touchscreen. First, you will use the soldering skills learned last week to make a touchscreen entirely out of resistors. Then, you will upload code to the Launchpad in order to process touches. \n",
    "\n",
    "Next week, we will switch gears and build a capacitive touch sensor, which will give you a better understanding of how modern touch screens, such as those found in cellphones, tablets, gaming devices, etc., are implemented.\n",
    "<br/>"
   ]
  },
  {
   "cell_type": "markdown",
   "metadata": {},
   "source": [
    "<a id='tst'></a>\n",
    "## Touchscreen Theory\n",
    "As explained on pages 39-42 in the [Electronics Course Reader](https://d1b10bmlvqabco.cloudfront.net/attach/icgvkl3p4x5m0/gyor3wfgyon205/if0gvqrkz0ue/edogs2.pdf), the basic principle behind a touch screen involves sensing changes in resistance corresponding to a user's touch input as shown below. Resistive touch screens are comprised of two conductive layers, separated by an insulating layer such as air or microbeads. When enough pressure is applied, the conductive layers touch and form a simple circuit called a voltage divider.\n",
    "<center>\n",
    "<img src=\"http://www-inst.eecs.berkeley.edu/~ee16a/sp15/Labs/touchscreen/nb_img/wk2_pen.png\" align=\"center\" style=\"height:200px\" />\n",
    "</center>\n",
    "<br/>\n",
    "\n",
    "The change in resistance is converted to a change in voltage using the voltage divider circuit introduced in lecture:\n",
    "<center>\n",
    "<img src=\"http://www-inst.eecs.berkeley.edu/~ee16a/sp15/Labs/touchscreen/nb_img/wk2_voltage_divider.png\" align=\"center\" style=\"height:200px\" />\n",
    "</center>\n",
    "<br/>\n",
    "Touchscreens have two main jobs: 1) detect a touch 2) determine the location of a touch with respect to a predefined origin. The first task is usually accomplished by using a [\"pull-up\" resistor](https://en.wikipedia.org/wiki/Pull-up_resistor). The second task is accomplished by taking advantage of fact that each conductive layer reduces to a voltage divider. \n",
    "\n",
    "Each conductive layer of a touch screen is responsible for determining position in a single axis. Since we setup the touch screen so that these axes are orthogonal, we can successfully determine the Cartesian position of a touch. To detect the position of a touch along a single axis, we must apply a voltage across one conductive layer, and then use the other conductive layer to sense the voltage between the contact point and ground. After analyzing the circuit, we can determine the relationships below for touching a point along one axis of the circuit, where the \"height\" and \"width\" correspond to the number of resistors along an axis.\n",
    "<center>\n",
    "<img src=\"http://www-inst.eecs.berkeley.edu/~ee16a/sp15/Labs/touchscreen/nb_img/wk2_drive_sense.png\" align=\"center\" style=\"height:300px\" />\n",
    "</center>\n",
    "<br/>\n",
    "\n",
    "As shown above, we can only apply voltage across one axis (drive one axis) at a time, while sensing across the other. It is also important to note that this method requires one wire to be disconnected. We will begin by manually testing voltages using the multimeter. Afterwards, we will use the Launchpad to rapidly switch the drive and sense axes to get \"real time\" measurements of position along the X and Y axes. "
   ]
  },
  {
   "cell_type": "markdown",
   "metadata": {},
   "source": [
    "<a id='task6'></a>\n",
    "## <span style=\"color:blue\">Task 1: Touchscreen Construction</span>\n",
    "We will build a basic 3x3 touchscreen, which will give us 9 total contact points. The touchscreen has two layers or \"meshes\" of resistors, which we will label Top and Bottom accordingly. The Top mesh is a square piece of plastic film with black traces of resistive ink on it; you can think of the traces as resistors. The Bottom mesh is a PCB."
   ]
  },
  {
   "cell_type": "markdown",
   "metadata": {},
   "source": [
    "<a id='task1a'></a>\n",
    "<h2><span style=\"color:blue\">Task 1a: Assemble the Bottom Mesh</span></h2>\n",
    "#### Materials & Equipment (only 1 set per group)\n",
    "* 12 2k$\\Omega$ resistors (Red-Black-Red-Gold) - kit\n",
    "* 2 Alligator clips - kit\n",
    "* 1 Touchscreen PCB - GSI desk\n",
    "* 4 male-male wires (you'll want long wires) - GSI desk\n",
    "* Solder - GSI desk\n",
    "* Precision wire cutters (don't forget to return them!) - GSI desk\n",
    "<br>\n",
    "\n",
    "<center style=\"font-size: 18px; font-weight: bold;\">\n",
    "<div style=\"display: inline-block; margin-left: auto; margin-right: auto;\" border=\"0\"><img style=\"height: 250px;\" src=\"http://inst.eecs.berkeley.edu/~ee16a/images/touchscreen_img/touch_pics/bot_front_blank.jpg\"/><div>Front</div></div>\n",
    "<div style=\"display: inline-block; margin-left: 100px; margin-right: auto; margin-bottom: 14px;\" border=\"0\"><img style=\"height: 250px;\" src=\"http://inst.eecs.berkeley.edu/~ee16a/images/touchscreen_img/touch_pics/bot_back_blank.jpg\"/><div>Back</div></div>\n",
    "</center>"
   ]
  },
  {
   "cell_type": "markdown",
   "metadata": {},
   "source": [
    "**<span style=\"color:red\">Follow the instructions below; read through them once before beginning.</span>**\n",
    "<p>The PCB has two faces (front and back); notice the right angle mark in the bottom left of the **front face.** We will be placing the resistors on the **back face**. Arrange the components as in the pictures **below** (the direction of the resistors - polarity - does **not** matter). Don't forget the two wires at locations (0,1) and (2,1). After you place a resistor on the PCB, you may find it helpful to bend the legs of the resistor to hold it in place. You can also use the vice-grip at your station to hold the PCB if you're in need of an extra hand.\n",
    "\n",
    "Turn the board over so you are looking at the front face and solder the joints (9 in total). **Trim the ends of the resistors using the wire cutters** so that the joints are either flat or rounder (ideal joint height is a few millimeters). Be patient and don't rush! Your goal is to produce a PCB like the one below:\n",
    "</p>\n",
    "</br>\n",
    "\n",
    "<center style=\"font-size: 18px; font-weight: bold;\">\n",
    "<div style=\"display: inline-block; margin-left: auto; margin-right: auto;\" border=\"0\"><img style=\"height: 250px;\" src=\"http://inst.eecs.berkeley.edu/~ee16a/images/touchscreen_img/touch_pics/bot_front_solder.jpg\"/><div>Front: (solder joints and PCB markings are on the front).</div></div>\n",
    "<div style=\"display: inline-block; margin-left: 100px; margin-right: auto; margin-bottom: 14px;\" border=\"0\"><img style=\"height: 250px;\" src=\"http://inst.eecs.berkeley.edu/~ee16a/images/touchscreen_img/touch_pics/bot_back_solder2.jpg\"/><div>Back: (resistors on the back).</div></div>\n",
    "</center>"
   ]
  },
  {
   "cell_type": "markdown",
   "metadata": {
    "collapsed": true
   },
   "source": [
    "**<span style=\"color:red\">Next, solder a free wire to each alligator clip (see image below).</span>**\n",
    "<center>\n",
    "<img src=\"http://inst.eecs.berkeley.edu/~ee16a/images/touchscreen_img/touch_pics/clips.jpg\" align=\"center\" style=\"height:200px\" />\n",
    "</center>"
   ]
  },
  {
   "cell_type": "markdown",
   "metadata": {},
   "source": [
    "<a id='task1b'></a>\n",
    "## <span style=\"color:blue\">Task 1b: Adding the Top Mesh</span>\n",
    "#### Materials\n",
    "* 4x foam pieces - GSI desk\n",
    "* 1 Plastic Top Mesh - GSI desk\n",
    "* 1 Bottom mesh - completed in 1a\n",
    "* 2x Alligator clips with wires - completed in 1a\n",
    "</br></br>\n",
    "\n",
    "<p>Once you have finished soldering the bottom PCB, the next step is to attach the PCB to the flexible top mesh. Commercial resistive touch screens usually separate the two layers with microscopic plastic beads; for this lab we will be using pieces of foam. </p>\n",
    "\n",
    "**<span style=\"color:red\">Follow the instructions below; read through them once before beginning.</span>**\n",
    "\n",
    "- Orient the PCB so the front is face up.\n",
    "- Stick foam cubes as in the picture below (leave at least 5mm of separation between a joint and foam block). ** You will need at least the 4 outer cubes;** add more cubes if the middle of the plastic screen sags too close to the PCB. Uncover the adhesive on the top of the foam blocks.\n",
    "\n",
    "<center>\n",
    "<img src=\"http://inst.eecs.berkeley.edu/~ee16a/images/touchscreen_img/touch_pics/rts_pcb.jpg\" align=\"center\" style=\"height:300px\" />\n",
    "</center>\n",
    "<br/>\n",
    "- Orient the plastic film on top of the PCB so that the ink is facing the solder joints. **MAKE SURE THE INK SIDE IS FACING THE PCB!**\n",
    "- Stick the plastic film to the foam blocks, keeping track of alignment.\n",
    "- Attach an alligator clip to following joints on the plastic mesh: (1,0) and (1,2). **The Alligator clips are only clipped onto the plastic mesh, NOT the PCB!**\n",
    "\n",
    "<center>\n",
    "<img src=\"http://inst.eecs.berkeley.edu/~ee16a/images/touchscreen_img/touch_pics/rts_pcb_full.jpg\" align=\"center\" style=\"height:300px\" />\n",
    "</center>\n",
    "<br/>"
   ]
  },
  {
   "cell_type": "markdown",
   "metadata": {},
   "source": [
    "<a id='multi'></a>\n",
    "## <span style=\"color:blue\">Multimeter Overview</span>\n",
    "A multimeter is a device capable of measuring multiple properties of devices, circuits, and individual components. In this case, the [Agilent 34405A](http://cp.literature.agilent.com/litweb/pdf/34405-91000.pdf) digital multimeter available at your station can measure the following properties: voltage, current, resistance, capacitance, and continuity. The multimeter is an essential tool for \"debugging\" a circuit. All operations with a multimeter require two \"leads\" to take a measurement properly. \"Lead\" is a synonym for wire, and we usually use one red lead and one black lead (positive & negative, respectively) when taking a measurement.\n",
    "<center>\n",
    "<img src=\"http://www-inst.eecs.berkeley.edu/~ee16a/sp15/Labs/imaging/nb_img/multimeter.jpg\" align=\"center\" style=\"height:200px\" />\n",
    "</center>\n",
    "\n",
    "Below is the series of steps one should follow to take a measurement with the multimeter. This is a reference; the circuit in question is **hypothetical** (for now)...\n",
    "<br/>\n",
    "\n",
    "1. <strong>Connect a black lead to the black port on the Multimeter.</strong> This serves as your connection to the negative terminal (often ground) of the Multimeter.\n",
    "<br/><br/>\n",
    "\n",
    "2. <strong>Connect a red lead to one of the red ports on the Multimeter. <span style=\"color:red\">Every red port has a different purpose; you cannot just put the lead in any red port!</span></strong>\n",
    "The ports are each labeled with what they should be used to measure. The top right port is used to measure voltage, resistance, capacitance, or continuity. The other two red ports are used to measure current and are capable of measuring up to the value (in Amps) marked above the port (12A for the top left port, 1.2A for the bottom right port). <strong> It is critical to double check your port connections before taking a measurement, or you run the risk of damaging the equipment.</strong> The reason there are two current port options and we don't just always use the 12A port is because the 1.2A offers greater precision, but with lower max current.\n",
    "<br/><br/>\n",
    "\n",
    "3. <strong>Select the quantity you wish to measure (e.g. DC voltage, current, resistance, etc).</strong>\n",
    "Do this using the buttons on the machine: \"DC V\" for voltage, \"DC I\" for current, and \"&#8486;\" for resistance. You can confirm you are measuring the desired property by double checking the units on the display.\n",
    "<br/><br/>\n",
    "\n",
    "4. <strong> Set your measurement range.</strong> \n",
    "The easiest and quickest way to do this is to have the range auto-scale: hit the blue \"Shift\" button, and then hit the gray button above the word \"Range\" and below the word \"Auto.\" To manually adjust the range, use the Up / Down facing buttons above / below the word \"Range.\" You can see the range by looking at the number in the top right of the display.\n",
    "<br.><br/>\n",
    "\n",
    "4. <strong>Connect the multimeter to a circuit, i.e. \"probe\" the circuit.</strong>\n",
    "**Measuring voltages** across components requires that the test leads are connected to the circuit **in parallel**. In the circuit below, $V$ is the voltage measured across the resistor $R$. **Current measurements** require the test leads to be connected **in series**.  In the circuit below, $A$ is the current $i$ through that point. To measure resistance or capacitance, connect the leads as if measuring a voltage. Use this diagram as a reference when you are ready to make a measurement.\n",
    "<br><br>\n",
    "<center>\n",
    "<img src=\"http://www-inst.eecs.berkeley.edu/~ee16a/sp15/Labs/imaging/nb_img/measurement_diagram.png\" align=\"center\" style=\"height:150px\" />\n",
    "</center>"
   ]
  },
  {
   "cell_type": "markdown",
   "metadata": {},
   "source": [
    "<a id='task2'></a>\n",
    "## <span style=\"color:blue\">Task 2: Testing the Circuit</span>\n",
    "\n",
    "#### Materials\n",
    "* Assembled touchscreen - completed in part 1a\n",
    "* Multimeter wires - Back wall\n",
    "* Power supply wires - Back wall\n",
    "\n",
    "Time to test our touch screen! "
   ]
  },
  {
   "cell_type": "markdown",
   "metadata": {},
   "source": [
    "### <span style=\"color:red\">Powering the Bottom Mesh</span>\n",
    "Consider the following setup, where we will power the Bottom Mesh (aka PCB), and use the top mesh to take measurements.\n",
    "\n",
    "- 5V supplied to the PCB: Power Supply Ground to the (0,1) wire of the PCB. Power Supply +5V to the (2,1) wire of the PCB. \n",
    "\n",
    "We want to examine the voltages at the 9 different locations when the PCB is powered. For this exercise, use your knowledge of circuits to determine the expected voltages at each of the 9 touch points. **For each joint in the \"Expected Voltages on Bottom Mesh\" column in the table below, record what you think the voltage should be at that point (the voltage difference between joint (2,1) and (0,1) is +5V).** Some points maybe tricky/hard to reduce; if so, try making an educated guess.\n",
    "\n",
    "Now, actually supply power to the bottom mesh:\n",
    "- Connect the Power Supply Ground to the (0,1) wire of the PCB.\n",
    "- Connect Power Supply +5V to the (2,1) wire of the PCB. \n",
    "- Clip the negative Multimeter wire to the (0,1) wire of the PCB (this is the same wire as the Power Supply Ground).\n",
    "- Clip the positive Multimeter wire to the (1,2) wire of the Top Mesh.\n",
    "**Make sure the Multimeter wires are connected to the right ports on the Multimeter!**\n",
    "\n",
    "For each of the 9 different locations, push down on the Top Mesh at that particular point, and record the output voltage of the Multimeter to 2 decimal places in the chart below. Verify that expected and measured voltages are reasonably close."
   ]
  },
  {
   "cell_type": "markdown",
   "metadata": {},
   "source": [
    "**<span style=\"color:red\">Complete the table below with the voltages measured at each joint.</span>**\n",
    "<table>\n",
    "  <tr>\n",
    "    <td>**Joint**</td>\n",
    "    <td>**Expected Voltages (V)**</td>\n",
    "    <td>**Measured Voltages (V)**</td>\n",
    "  </tr>\n",
    "  <tr>\n",
    "    <td>**(0,0)**</td>\n",
    "    <td>1.25 V</td>\n",
    "    <td>1.24 V</td>\n",
    "  </tr>\n",
    "  <tr>\n",
    "    <td>**(0,1)**</td>\n",
    "    <td>0 V</td>\n",
    "    <td>0 V</td>\n",
    "  </tr>\n",
    "  <tr>\n",
    "    <td>**(0,2)**</td>\n",
    "    <td>1.25 V</td>\n",
    "    <td>1.24 V</td>\n",
    "  </tr>\n",
    "  <tr>\n",
    "    <td>**(1,0)**</td>\n",
    "    <td>2.5 V</td>\n",
    "    <td>2.49 V</td>\n",
    "  </tr>\n",
    "  <tr>\n",
    "    <td>**(1,1)**</td>\n",
    "    <td>2.5 V</td>\n",
    "    <td>2.49 V</td>\n",
    "  </tr>\n",
    "  <tr>\n",
    "    <td>**(1,2)**</td>\n",
    "    <td>2.5 V</td>\n",
    "    <td>2.49 V</td>\n",
    "  </tr>\n",
    "  <tr>\n",
    "    <td>**(2,0)**</td>\n",
    "    <td>3.75 V</td>\n",
    "    <td>3.74 V</td>\n",
    "  </tr>\n",
    "  <tr>\n",
    "    <td>**(2,1)**</td>\n",
    "    <td>5 V</td>\n",
    "    <td>4.99 V</td>\n",
    "  </tr>\n",
    "  <tr>\n",
    "    <td>**(2,2)**</td>\n",
    "    <td>3.75 V</td>\n",
    "    <td>3.75 V</td>\n",
    "  </tr>\n",
    "</table>"
   ]
  },
  {
   "cell_type": "markdown",
   "metadata": {},
   "source": [
    "**<span style=\"color:red\">Can we uniquely determine the location of a touch by only powering the Bottom Mesh?</span>**"
   ]
  },
  {
   "cell_type": "markdown",
   "metadata": {},
   "source": [
    "No we cannot"
   ]
  },
  {
   "cell_type": "markdown",
   "metadata": {},
   "source": [
    "### <span style=\"color:red\">Powering the Top Mesh</span>\n",
    "Now we will reverse the previous setup: we will power the Top Mesh, and use the Bottom Mesh to take measurements.\n",
    "\n",
    "- Connect the Power Supply Ground to the (1,0) wire of the Top Mesh.\n",
    "- Connect Power Supply +5V to the (1,2) wire of the Top Mesh. \n",
    "- Clip the negative Multimeter wire to the (1, 0) wire of the Top Mesh (this is the same wire as the Power Supply Ground).\n",
    "- Clip the positive Multimeter wire to the (2, 1) wire of the PCB.\n",
    "**Make sure the Multimeter wires are connected to the right ports on the Multimeter!**\n",
    "\n",
    "For this new setup, record what you expected the voltage to be at each location in the chart below. Then measure the voltage at each point with the Multimeter to confirm your calculations."
   ]
  },
  {
   "cell_type": "markdown",
   "metadata": {},
   "source": [
    "**<span style=\"color:red\">Complete the table below with the voltages measured at each joint.</span>**\n",
    "<table>\n",
    "  <tr>\n",
    "    <td>**Joint**</td>\n",
    "    <td>**Expected Voltages (V)**</td>\n",
    "    <td>**Measured Voltages (V)**</td>\n",
    "  </tr>\n",
    "  <tr>\n",
    "    <td>**(0,0)**</td>\n",
    "    <td>1.25 V</td>\n",
    "    <td>1.78 V</td>\n",
    "  </tr>\n",
    "  <tr>\n",
    "    <td>**(0,1)**</td>\n",
    "    <td>2.5 V</td>\n",
    "    <td>3.32 V</td>\n",
    "  </tr>\n",
    "  <tr>\n",
    "    <td>**(0,2)**</td>\n",
    "    <td>3.75 V</td>\n",
    "    <td>4.25</td>\n",
    "  </tr>\n",
    "  <tr>\n",
    "    <td>**(1,0)**</td>\n",
    "    <td>0 V</td>\n",
    "    <td>0 V</td>\n",
    "  </tr>\n",
    "  <tr>\n",
    "    <td>**(1,1)**</td>\n",
    "    <td>2.5 V</td>\n",
    "    <td>3.38 V</td>\n",
    "  </tr>\n",
    "  <tr>\n",
    "    <td>**(1,2)**</td>\n",
    "    <td>5 V</td>\n",
    "    <td>4.72 V</td>\n",
    "  </tr>\n",
    "  <tr>\n",
    "    <td>**(2,0)**</td>\n",
    "    <td>1.25 V</td>\n",
    "    <td>1.90 V</td>\n",
    "  </tr>\n",
    "  <tr>\n",
    "    <td>**(2,1)**</td>\n",
    "    <td>2.5 V</td>\n",
    "    <td>3.37 V</td>\n",
    "  </tr>\n",
    "  <tr>\n",
    "    <td>**(2,2)**</td>\n",
    "    <td>3.75 V</td>\n",
    "    <td>4.25 V</td>\n",
    "  </tr>\n",
    "</table>"
   ]
  },
  {
   "cell_type": "markdown",
   "metadata": {},
   "source": [
    "**<span style=\"color:red\">In order to sense a horizontal (x)-coordinate which mesh (top or bottom) will be driven with a voltage source, and which mesh will we measure the voltage across?</span>**"
   ]
  },
  {
   "cell_type": "markdown",
   "metadata": {},
   "source": [
    "Top Mesh"
   ]
  },
  {
   "cell_type": "markdown",
   "metadata": {},
   "source": [
    "**<span style=\"color:red\">For sensing a vertical (y)-coordinate, which mesh (top or bottom) will be driven with a voltage source, and which mesh will we measure the voltage across?</span>**"
   ]
  },
  {
   "cell_type": "markdown",
   "metadata": {},
   "source": [
    "Bottom Mesh"
   ]
  },
  {
   "cell_type": "markdown",
   "metadata": {},
   "source": [
    "<a id='task3'></a>\n",
    "## <span style=\"color:blue\">Task 3: Touchscreen Processing</span>\n",
    "Ultimately, we want to be able to determine the precise location of our finger on the screen. While reading voltages off of the multimeter is good for testing purposes, it is slow and not practical for actual usage. We will now use the Launchpad to automate this process.\n",
    "\n",
    "### Launchpad Touch Processing\n",
    "To be consistent with the diagram below, we use the following naming convention: $X_{neg}$ = (0,1), $X_{pos}$ = (2,1), $Y_{neg}$ = (1,0), $Y_{pos}$ = (1,2)\n",
    "<center>\n",
    "<img src=\"http://www-inst.eecs.berkeley.edu/~ee16a/sp15/Labs/touchscreen/nb_img/wk2_drive_sense.png\" align=\"center\" style=\"height:200px\" />\n",
    "</center>\n",
    "**<span style=\"color:red\">Use the diagram below to hookup touch screen to the Launchpad ($Y_{pos}$ -> 6.0, $X_{pos}$ -> 6.1, $X_{neg}$ -> 6.2, $Y_{neg}$ -> 6.3).</span>** You may find it helpful to attach the female-male jumper wires in your supply bag to the ends of each lead. The alligator clips are clipped onto the flex screen only. **If any of your pins are broken you will need to find a new Analog pin to connect to. To find a pin, go to last week's lab and look at the pinout diagram (or Google the pinout diagram). You will also need to change the pin's name in the code!**\n",
    "<center>\n",
    "<br>\n",
    "<center style=\"font-size: 18px; font-weight: bold;\">\n",
    "<div style=\"display: inline-block; margin-left: auto; margin-right: auto;\" border=\"0\"><img style=\"height: 250px;\" src=\"http://inst.eecs.berkeley.edu/~ee16a/images/touchscreen_img/touch_pics/pins.jpg\"/><div>Hookup</div></div>\n",
    "<div style=\"display: inline-block; margin-left: 100px; margin-right: auto; margin-bottom: 14px;\" border=\"0\"><img style=\"height: 250px;\" src=\"http://inst.eecs.berkeley.edu/~ee16a/images/touchscreen_img/touch_pics/full_setup.jpg\"/><div>Full Setup</div></div>\n",
    "</center>"
   ]
  },
  {
   "cell_type": "markdown",
   "metadata": {},
   "source": [
    "- Upload the **'rts.ino'** file included in the lab folder to the Launchpad. 'rts.ino' is responsible for detecting a touch and then writing the raw x and raw y analog values to Serial.\n",
    "- Open a new cmd window and navigate to the lab folder.\n",
    "- Open a python file called **'process_touches.py'** in a text editor of your choice. 'process_touches.py' is responsible for reading the raw x and raw y values from Serial and then converting these analog values into actual touchscreen coordinates.\n",
    "- **<span style=\"color:red\">In lines 89 and 90 of the get_loc() function in 'process_touches.py', fill in the code to convert raw analog x/y values into touchscreen coordinates. Hint 1: Revisit the Touchscreen Theory section. Hint 2: It may be helpful to read through parse_serial() and main(), however, you are not expected to know what every line is doing.</span>**\n",
    "- To run/test 'process_touches.py' run the following command in cmd: **python process_touches.py -d COM###** (where COM### == the UART1 COM PORT). The Touchscreen coordinates will be printed in the cmd window if all goes according to plan.\n",
    "\n",
    "Congratulations, you have built a functioning touch screen!"
   ]
  }
 ],
 "metadata": {
  "anaconda-cloud": {},
  "kernelspec": {
   "display_name": "Python 3",
   "language": "python",
   "name": "python3"
  },
  "language_info": {
   "codemirror_mode": {
    "name": "ipython",
    "version": 3
   },
   "file_extension": ".py",
   "mimetype": "text/x-python",
   "name": "python",
   "nbconvert_exporter": "python",
   "pygments_lexer": "ipython3",
   "version": "3.6.1"
  }
 },
 "nbformat": 4,
 "nbformat_minor": 1
}
