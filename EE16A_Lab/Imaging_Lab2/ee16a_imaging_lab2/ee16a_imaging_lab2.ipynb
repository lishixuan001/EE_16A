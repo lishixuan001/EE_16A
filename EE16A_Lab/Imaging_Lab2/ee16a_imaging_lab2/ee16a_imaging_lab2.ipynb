{
 "cells": [
  {
   "cell_type": "markdown",
   "metadata": {},
   "source": [
    "# Imaging Lab 2: Single Pixel Scanning\n",
    "\n",
    "### EECS 16A: Designing Information Devices and Systems I, Summer 2017"
   ]
  },
  {
   "cell_type": "markdown",
   "metadata": {},
   "source": [
    "**Name 1**:\n",
    "\n",
    "**Login**: ee16a-\n",
    "\n",
    "\n",
    "**Name 2**:\n",
    "\n",
    "**Login**: ee16a-"
   ]
  },
  {
   "cell_type": "markdown",
   "metadata": {},
   "source": [
    "\n",
    "## Table of Contents\n",
    "\n",
    "* [Instructions](#instructions)\n",
    "* [Lab Policies](#policies)\n",
    "* Setup\n",
    "    * [Light Sensor](#task1a)\n",
    "    * [MSP430 Code](#task1b)\n",
    "    * [Projector](#task1c)\n",
    "* Images and Arrays\n",
    "    * [Images](#task2a)\n",
    "    * [Scanning Matrix](#task2b)\n",
    "* [Real Image Scanning](#task3)\n",
    "* [FAQ](#faq)"
   ]
  },
  {
   "cell_type": "markdown",
   "metadata": {},
   "source": [
    "<a id='instructions'></a>\n",
    "## Instructions\n",
    "* Complete this lab by filling in all of the required sections, marked with `\"YOUR CODE HERE\"` or `\"YOUR COMMENTS HERE\"`.\n",
    "\n",
    "\n",
    "* When you finish, submit a checkoff request to get checked off for this lab. Be ready to answer a few questions to show your understanding of each section.\n",
    "\n",
    "\n",
    "* Labs will be graded based on completion for teams of 2 (or 3) students."
   ]
  },
  {
   "cell_type": "markdown",
   "metadata": {},
   "source": [
    "## Check in\n",
    "Please check in here: https://goo.gl/forms/jl8p4VAAlkmLryiG3. This is purely to log time spent in lab. Consider this to be unofficial attendance. "
   ]
  },
  {
   "cell_type": "markdown",
   "metadata": {},
   "source": [
    "<a id='policies'></a>\n",
    "## Lab Policies\n",
    "* **YOU MUST ATTEND THE LAB SECTION YOU ARE ENROLLED IN. If you anticipate missing a section please notify your GSI in advance.**\n",
    "* **You are required to return all parts checked out at the beginning of the lab section unless told otherwise.**\n",
    "* **You are free to stay for the full allotted time and hack around with the lab equipment, but please keep the GSI's time in mind and do not work on unrelated assignments.**\n",
    "* **Food and drinks (except water) are not allowed in the lab.**\n",
    "* **Clean up, turn off all equipment, and log off of computers before leaving.**"
   ]
  },
  {
   "cell_type": "markdown",
   "metadata": {},
   "source": [
    "# Overview\n",
    "This week, you will scan an object pixel by pixel and write code to recreate the object with the sensor readings. You will begin by checking that the circuit you built last time still works and that the projector is correctly connected to the computer. Next, you will write code to generate the pattern that the projector will use to scan through the object. Finally, you will use your code and scanning matrix to photograph a drawing!\n",
    "<br/><br/>\n",
    "<center>\n",
    "<img src=\"http://i.imgur.com/Hxm731p.jpg\" style=\"height:256px\" />\n",
    "</center>"
   ]
  },
  {
   "cell_type": "markdown",
   "metadata": {},
   "source": [
    "<a id='task1a'></a>\n",
    "## <span style=\"color:blue\">Task 1a: Light Sensor</span>\n",
    "\n",
    "Build your ambient light sensor circuit as you did in <a href=\"https://inst.eecs.berkeley.edu/~ee16a/fa16/lab/imaging/imaging1/ee16a_imaging_lab1.zip\">Imaging Lab 1</a>. Connect the Launchpad to circuit in the same fashion as in Imaging Lab 1.\n",
    "<br/><br/>\n",
    "\n",
    "<center>\n",
    "<img src=\"http://i.imgur.com/PwrhG3W.png\" align=\"center\" style=\"height:200px\" />\n",
    "</center>\n",
    "A reminder on how to connect the Launchpad to the sensor circuit:\n",
    "  Our goal is to use the Launchpad to replace both the Power Supply and Oscilloscope. The Launchpad is capable of supplying the $3.3V$ necessary to power the circuit, and can also read and send voltage values to our computer via Input / Output pins. Something to keep in mind: the Launchpad has both Male and Female connections (Male on the top side, Female on the underside).\n",
    "  * Connect the **3.3V** pin on the Launchpad (highlighted in green) to the **positive**  to the same location the positive Power Supply wire was connected to on your breadboard (most likely the red column).\n",
    "  * Connect the **GND** port (either one) on the Launchpad (highlighted in blue) to the **negative** to the same location the negative Power Supply wire was connected to on your breadboard (most likely the blue column).\n",
    "  * Connect the output of the circuit (which was previously connected to the positive terminal of the O-scope probe) with a wire to pin **P6.0** on the Launchpad (highlighted in yellow).\n",
    "<br/><br/>\n",
    "<center>\n",
    "<img src=\"http://i.imgur.com/1HV4emu.png\" align=\"center\" style=\"height:400px\" />\n",
    "</center>\n",
    "<br/><br/>"
   ]
  },
  {
   "cell_type": "markdown",
   "metadata": {},
   "source": [
    "## <span style=\"color:blue\">Task 1b: Upload Code to Launchpad</span>\n",
    "\n",
    "We will be using different Launchpad code this week.<br/> \n",
    "\n",
    "**<span style=\"color:red\"> Upload the `AnalogReadSerial` program to your Launchpad. This is located in the lab folder you downloaded. To verify that the program is working, type a '6' into the serial monitor; you can open the serial monitor by going to Tools > Serial Monitor. You should see a reading from the ambient light sensor appear. Take note of the highest value you can read and the lowest.</span>**\n",
    "\n"
   ]
  },
  {
   "cell_type": "markdown",
   "metadata": {},
   "source": [
    "<a id='task1c'></a>\n",
    "## <span style=\"color:blue\">Task 1c: Projector Setup</span>\n",
    "0. All of the equipment is inside the cardboard box at your station.\n",
    "1. Disconnect the USB cable from the MSP.\n",
    "2. Take the plastic stand out of the box.\n",
    "3. Place the completed circuit and Launchpad in the stand.\n",
    "4. Place the stand back into the cardboard station box.\n",
    "5. Wire the USB, Projector Power, and Mini-HDMI through the holes of the box\n",
    "6. Mini-HDMI should be on your computer or behind the monitor\n",
    "7. Connect the USB cable to the Launchpad.\n",
    "8. Connect the HDMI and power cables to the projector.\n",
    "9. Turn on the projector by holding down the power button (Thinner button that is not an arrow)\n",
    "10. Find an adjustable wheel on the side of the project to adjust focus\n",
    "11. Use the left/right arrows to select the **Settings** options (gears icon).\n",
    "12. Change picture mode from standard to user\n",
    "13. Move cursor down to **Contrast** and use right arrow to adjust contrast to `100`\n",
    "14. Move cursor down to **Brightness** and use left arrow to adjust brightness to `0`\n",
    "15. Use the Back Arrow button to return to main menu\n",
    "17. Using right/left arrows, select **HDMI** (takes a few seconds)\n",
    "18. You should see the Windows 10 desktop\n",
    "19. If you see the Windows 10 Taskbar at the bottom of the projected screen, take the following precautions:\n",
    "    1. Hit Windows key and type **Settings**\n",
    "    2. Click on the **Personalization** icon\n",
    "    3. Click on **Taskbar** on the left side\n",
    "    4. Under **Multiple Displays** section, turn **Show taskbar on all displays** off.\n",
    "20. Look at the serial monitor in Energia to confirm the Launchpad is connected by entering `6`.\n"
   ]
  },
  {
   "cell_type": "code",
   "execution_count": null,
   "metadata": {},
   "outputs": [],
   "source": [
    "#Import Necessary Libraries\n",
    "%pylab inline\n",
    "# from  pylab import *\n",
    "import struct\n",
    "import time\n",
    "import warnings\n",
    "import math\n",
    "import numpy\n",
    "from numpy.linalg import inv\n",
    "warnings.filterwarnings('ignore')"
   ]
  },
  {
   "cell_type": "markdown",
   "metadata": {},
   "source": [
    "<a id='task2a'></a>\n",
    "## <span style=\"color:blue\">Task 2a: Working with Images</span>\n",
    "A simple grayscale image can be represented using a 2D numpy array. The values stored in this array correspond to different shades of gray, where lower numbers are darker and higher numbers are lighter.  \n",
    "\n",
    "To see how this works, create a 5x5 numpy array with linearly spaced floating point values from 0 to 1. i.e. gradient_image[0,0] = 0.0, gradient_image[2,2] = 0.5, and gradient_image[4,4] = 1.0\n",
    "\n",
    "<br/>\n",
    "\n",
    "\n",
    "** <span style=\"color:red\">Create the gradient 5x5 array here. It should look like the following:</span>**\n",
    "\n",
    "\n",
    "<br/>\n",
    "<center>\n",
    "<img src=\"http://inst.eecs.berkeley.edu/~ee16a/images/imaging_img/gradient.JPG\" align=\"center\" style=\"height:200px\" />\n",
    "</center>"
   ]
  },
  {
   "cell_type": "code",
   "execution_count": null,
   "metadata": {},
   "outputs": [],
   "source": [
    "# TODO: Make a gradient image from 0 to 1\n",
    "\n",
    "gradient_image = # YOUR CODE HERE. \n",
    "# Hint: There is a NumPy function that can create a vector of equally spaced values over a specified range.\n",
    "# Hint 2: Google \"numpy evenly spaced values\"\n",
    "\n",
    "print(gradient_image)"
   ]
  },
  {
   "cell_type": "markdown",
   "metadata": {},
   "source": [
    "**<span style=\"color:red\">Display the same matrix with `plt.imshow`.</span>**"
   ]
  },
  {
   "cell_type": "code",
   "execution_count": null,
   "metadata": {},
   "outputs": [],
   "source": [
    "plt.imshow(gradient_image, cmap='gray', interpolation='nearest')\n",
    "plt.axis('off')"
   ]
  },
  {
   "cell_type": "markdown",
   "metadata": {},
   "source": [
    "**<span style=\"color:red\">What do you notice about the relationship between how numbers between 0 to 1 relate to gray-scale colors? What color would 1 correspond to? What about 0?</span>**"
   ]
  },
  {
   "cell_type": "markdown",
   "metadata": {},
   "source": [
    "YOUR COMMENTS HERE"
   ]
  },
  {
   "cell_type": "markdown",
   "metadata": {},
   "source": [
    "<a id='task2b'></a>\n",
    "## <span style=\"color:blue\">Task 2b: Scanning Matrix</span>\n",
    "\n",
    "Next, we will create an array that we will use to illuminate individual pixels for our single pixel camera. The first step is to think about the image as a vector (you will see why this is important soon).\n",
    "\n",
    "**<span style=\"color:red\">\n",
    "Convert the `gradient_image` that you created above into a 1x25 (row) vector and display it. You will find the command `np.reshape` helpful. What do you notice? </span>**"
   ]
  },
  {
   "cell_type": "code",
   "execution_count": null,
   "metadata": {},
   "outputs": [],
   "source": [
    "# TODO: Convert matrix to vector\n",
    "\n",
    "gradient_image_vector =  # YOUR CODE HERE.\n",
    "\n",
    "# Display the vector\n",
    "plt.imshow(gradient_image_vector, cmap='gray', interpolation='nearest')\n",
    "plt.axis('off')"
   ]
  },
  {
   "cell_type": "markdown",
   "metadata": {},
   "source": [
    "## Imaging Mask\n",
    "Our goal is to scan an image with the single pixel camera, take the output from the camera (a vector), and turn it back into the original image (2D array).\n",
    "\n",
    "Let's suppose the original image we scanned with our single pixel camera is **`gradient_image`** and the image in a vector form is **`gradient_image_vector`**.  \n",
    "\n",
    "Think about what **`gradient_image_vector`** would look like. How is it possible to represent a 2D image as a vector? The way to go about this is to append the second row of data after the first, then append the third row of data after the second, until you build a 1x`num_pixels` vector. See the simple 3x3 example for how this works.\n",
    "\n",
    "![Row Dissection Example](http://i.imgur.com/jQ9bBgj.png)\n",
    "\n",
    "What matrix multiplied with **`gradient_image`** will return **`gradient_image_vector`**? Your answer should be a simple matrix, call it $H$.\n",
    "This operation is represented in the following equation:\n",
    "\n",
    "$$\\vec{i} * H = \\vec{s}$$\n",
    "\n",
    "where $H$ is the imaging mask, $i$ is the **`gradient_image_vector`**, and $s$ is the sensor readings. \n",
    "\n",
    " What is a *mask*? In this context, a mask is a way to hide certain elements of the image while scanning. For example, in a 4x3 image, a mask to expose only the top left and hide all other pixels would look like this:\n",
    " \n",
    "![Example](http://i.imgur.com/cvJyCgq.png)\n",
    "\n",
    "This is a single mask. To expose each pixel individually, we would need 12 masks with the white \"exposed\" pixel in different locations. In the matrix $H$, each column represents a mask. This would mean that the 2-D mask above would have to be represented as a single column. See the colorful example above for an explanation for how to do this.\n",
    "\n",
    "In the example, the mask shown would be transformed into a 1x12 vector: `[1, 0, 0, 0, 0, 0, 0, 0, 0, 0, 0, 0]`. This would be the first column in $H$. The second column would be the next pixel exposed. Think about what the final $H$ matrix would look like."
   ]
  },
  {
   "cell_type": "markdown",
   "metadata": {},
   "source": [
    "**<span style=\"color:red\">\n",
    "Create the imaging mask $H$ for the 5x5 image. What dimensions does it have and why? </span>**"
   ]
  },
  {
   "cell_type": "code",
   "execution_count": null,
   "metadata": {},
   "outputs": [],
   "source": [
    "# TODO: Create the 5x5 image multiplication matrix\n",
    "\n",
    "H = # YOUR CODE HERE. \n",
    "# Hint: There is a NumPy function that will create a matrix with the properties of H. (Google numpy eye)\n",
    "\n",
    "# Display this image mask\n",
    "plt.imshow(H, cmap='gray', interpolation='nearest')"
   ]
  },
  {
   "cell_type": "markdown",
   "metadata": {},
   "source": [
    "**<span style=\"color:red\">\n",
    "Multiply the $H$ matrix with `gradient_image_vector` to get the same vector back! Remember to use `np.dot` to do matrix multiplication.</span>**"
   ]
  },
  {
   "cell_type": "code",
   "execution_count": null,
   "metadata": {},
   "outputs": [],
   "source": [
    "# TODO: Recreate the gradient_image_vector by multiplying H and gradient_image_vector\n",
    "\n",
    "gradient_image_recreate = # YOUR CODE HERE.\n",
    "\n",
    "# Display the result and compare to gradient_image_vector\n",
    "plt.imshow(gradient_image_recreate, cmap='gray', interpolation='nearest')\n",
    "plt.axis('off')"
   ]
  },
  {
   "cell_type": "markdown",
   "metadata": {},
   "source": [
    "What is happening in this matrix multiplication? Each column of matrix H is responsible for \"illuminating\", or selecting, a single pixel in the gradient image!\n",
    "\n",
    "For the `gradient_image_vector`, we created it by converting the 5x5 image into a vector. Similarly, *every* column in the matrix $H$ can be represented as a 5x5 image. \n",
    "\n",
    "**<span style=\"color:red\">\n",
    "To see this, iterate through each column of matrix $H$, *reshape* it into a 5x5 image, and check that each column illuminates a unique pixel of the original 5x5 image! Based on the equation, why should it be the columns?</span>**"
   ]
  },
  {
   "cell_type": "code",
   "execution_count": null,
   "metadata": {},
   "outputs": [],
   "source": [
    "# TODO: Iterate through columns of matrix H and form individual masks\n",
    "\n",
    "figure(figsize=(20,20))\n",
    "for j in range(0,25):\n",
    "    subplot(5,5,j+1)\n",
    "    \n",
    "    proj =  # YOUR CODE HERE. Hint: You've already used this NumPy function in this lab.\n",
    "    \n",
    "    imshow(proj,cmap='gray', interpolation='nearest');\n",
    "    title('Mask ' + str(j) + ' = Column ' + str(j) + ' of Matrix H')"
   ]
  },
  {
   "cell_type": "markdown",
   "metadata": {},
   "source": [
    "Each of these images that we've created are masks. The white pixels are transparent and the black pixels are not. When we project one of these masks over our image, we shine only one pixel of light at a time. We can gather information about just that pixel in the image.\n",
    "\n",
    "Let's try an imaging mask that's a bit more complicated. Say we want our sensor reading vector to contain the values for every other pixel (0,2,4...), followed by the pixels we skipped (1,3,5...). \n",
    "\n",
    "**<span style=\"color:red\">\n",
    "Repeat the above procedure with a new imaging mask, $H1$ that selects alternate pixels. </span>**\n",
    "Hint: Try to use columns from the existing H matrix. Review the Python tutorial. Also, look up the `numpy concatenate or hstack/vstack` functions."
   ]
  },
  {
   "cell_type": "code",
   "execution_count": null,
   "metadata": {},
   "outputs": [],
   "source": [
    "# TODO: Create the multiplication matrix\n",
    "\n",
    "H1 = # YOUR CODE HERE. Hint: You can construct H1 using either for loop(s) or clever array slicing and np.concatenate().\n",
    "\n",
    "# Display this image mask\n",
    "figure()\n",
    "plt.imshow(H1, cmap='gray', interpolation='nearest')\n",
    "\n",
    "\n",
    "\n",
    "# TODO: Recreate the gradient_image_vector by multiplying gradient_image_vector and H1\n",
    "\n",
    "gradient_image_recreate1 = # YOUR CODE HERE.\n",
    "\n",
    "\n",
    "# Display the result and compare to gradient_image_vector\n",
    "figure()\n",
    "plt.imshow(gradient_image_recreate1, cmap='gray', interpolation='nearest')\n",
    "plt.axis('off')"
   ]
  },
  {
   "cell_type": "markdown",
   "metadata": {},
   "source": [
    "<a id='task3'></a>\n",
    "## <span style=\"color:blue\">Task 3: Imaging Real Pictures</span>\n",
    "\n",
    "Finally, we will use our two matrices to image a real picture. Because our picture is fairly large, we want each individual mask to have dimensions 30x40 to match the 4:3 aspect ratio of the projector. Think about how big the mask matrix was for the 5x5 example, and how big it must be for a 30x40 picture. To do so, \n",
    "**<span style=\"color:red\">\n",
    "recreate both the $H$ and $H1$ masks to match these dimensions. </span>**"
   ]
  },
  {
   "cell_type": "code",
   "execution_count": null,
   "metadata": {},
   "outputs": [],
   "source": [
    "# TODO: Recreate H\n",
    "H = # YOUR CODE HERE.\n",
    "figure()\n",
    "figure(figsize=(6,6))\n",
    "plt.imshow(H, cmap='gray', interpolation='nearest')"
   ]
  },
  {
   "cell_type": "code",
   "execution_count": null,
   "metadata": {},
   "outputs": [],
   "source": [
    "# TODO: Recreate H1      \n",
    "H1 = # YOUR CODE HERE.\n",
    "figure(figsize=(6,6))\n",
    "plt.imshow(H1, cmap='gray', interpolation='nearest')"
   ]
  },
  {
   "cell_type": "markdown",
   "metadata": {},
   "source": [
    "In order to tell the imaging code to use a specific matrix, we save it into a variable called `imaging_mask`. "
   ]
  },
  {
   "cell_type": "markdown",
   "metadata": {},
   "source": [
    "**<span style=\"color:red\">Run the cell below to save mask H!</span>**"
   ]
  },
  {
   "cell_type": "code",
   "execution_count": null,
   "metadata": {},
   "outputs": [],
   "source": [
    "np.save('imaging_mask.npy',H)"
   ]
  },
  {
   "cell_type": "markdown",
   "metadata": {},
   "source": [
    "Now, we need an object to take a picture of. There are index cards and markers at the GSI desk; **<span style=\"color:red\">take an index card and draw something on the non-lined side of the index card.</span>** Place this index card inside the box at the back of the stand (see image at top of lab)."
   ]
  },
  {
   "cell_type": "markdown",
   "metadata": {},
   "source": [
    "Open a new command line window. From the command line (in the lab project directory), run\n",
    "\n",
    "`python capture_image.py -f 40`\n",
    "\n",
    "The script projects patterns based on the masks you designed, `imaging_mask.npy`. The sensor readings will then be saved into an array named `sensor_readings.npy` in the `data/` folder.\n",
    "\n",
    "When running the command in the terminal, you will be prompted for the com port and the display. \n",
    "\n",
    "**Select the UART COM port (can be found using the Device Manager) and the 1280x720 projector screen.**\n",
    "\n",
    "After, a new icon will be appear to the taskbar in the shape of a white web. The window itself actually appears in the projector's screen. You can confirm this by looking into the box to find a mostly black window on the projector's screen.\n",
    "\n",
    "**<span style=\"color:red\">Before starting the scan, aim the Ambient Light Sensor towards the index card.</span>** Do this by slightly bending the ALS at the legs; make sure the legs are not touching though!\n",
    "\n",
    "**<span style=\"color:red\">\n",
    "To begin the scan, you will need to click on the Python icon (White and red web icon) that popped up in the task bar to select that window, and then press 'Enter.' </span>** This selects the projector screen and runs the scan. **Make sure your box is fully closed when scanning.** As the scan starts, you can see the value and the count of the mask. The counts are iterating over the $H$ matrix you made, which is translated into real masks on the projected screen. The whole scanning process should take roughly 30 seconds. If you get an error saying \"numpy array length must be unchanged\", make sure you uploaded the correct code onto the MSP, make sure you uploaded to the right COM port, and restart the scan. You can cancel a command in shell by hitting control+C and closing the web icon window."
   ]
  },
  {
   "cell_type": "markdown",
   "metadata": {},
   "source": [
    "After the sensor readings have been captured, load the sensor reading vector in the cell below. Here is the equation relating $H$, sensor readings, and image vector:\n",
    "\n",
    "$$\\vec{i} * H = \\vec{s}$$\n",
    "\n",
    "**<span style=\"color:red\">\n",
    "Recreate the image vector from the sensor readings. \n",
    "</span>**"
   ]
  },
  {
   "cell_type": "code",
   "execution_count": null,
   "metadata": {},
   "outputs": [],
   "source": [
    "# WARNING!! If you run multiple scans (by pressing enter at the end of a scan) the sensor_readings0.npy file \n",
    "#  will increment to sensor_readings1.npy, sensor_readings2.npy etc Make sure you read in the correct file. \n",
    "\n",
    "sr = np.load('data/sensor_readings0.npy') #what are the dimensions?\n",
    "\n",
    "# TODO: Create the image vector from H and sr\n",
    "iv = # YOUR CODE HERE. Hint: Because H is a special matrix, technically you do not need to perform any matrix operations\n",
    "img = # YOUR CODE HERE\n",
    "\n",
    "plt.figure(figsize=(8,8))\n",
    "plt.imshow(img, cmap='gray')\n",
    "plt.axis('off')"
   ]
  },
  {
   "cell_type": "markdown",
   "metadata": {},
   "source": [
    "Congratulations! You have imaged your first image using your single pixel camera! \n",
    "\n",
    "\n",
    "**<span style=\"color:red\">\n",
    "Does your recreated image match the real image? What are some problems you notice? \n",
    "</span>**\n",
    "\n",
    "\n",
    "Here is an example of a picture we took using this setup:\n",
    "![Figure 1-1](http://i.imgur.com/VdCGuf2.png \"EE16A\")"
   ]
  },
  {
   "cell_type": "markdown",
   "metadata": {},
   "source": [
    "**<span style=\"color:red\">\n",
    "Next, use the second mask for imaging. Can you repeat the same procedure by just replacing $H$ with $H1$? Why or why not?</span>**"
   ]
  },
  {
   "cell_type": "code",
   "execution_count": null,
   "metadata": {},
   "outputs": [],
   "source": [
    "np.save('imaging_mask.npy', H1)"
   ]
  },
  {
   "cell_type": "markdown",
   "metadata": {},
   "source": [
    "Now run `capture_image.py` from the command line again (make sure to restart the script) to collect sensor readings, then reconstruct the image.\n",
    "\n",
    "**<span style=\"color:red\">\n",
    "Note that it is very important to seal the imaging system inside the box to keep ambient light out</span>**"
   ]
  },
  {
   "cell_type": "code",
   "execution_count": null,
   "metadata": {},
   "outputs": [],
   "source": [
    "# WARNING!! If you run multiple scans (by pressing enter at the end of a scan) the sensor_readings0.npy file \n",
    "#  will increment to sensor_readings1.npy, sensor_readings2.npy etc Make sure you read in the correct file. \n",
    "\n",
    "sr = np.load('data/sensor_readings0.npy') #what are the dimensions?\n",
    "\n",
    "# TODO: Create the image vector from H and sr\n",
    "iv = # YOUR CODE HERE. Hint: You need to perform a matrix operation before multiplying\n",
    "img = # YOUR CODE HERE\n",
    "\n",
    "plt.figure(figsize=(8,8))\n",
    "plt.imshow(img, cmap='gray')\n",
    "plt.axis('off')"
   ]
  },
  {
   "cell_type": "markdown",
   "metadata": {},
   "source": [
    "You are done for the week! Save your code and circuit for next week, where you will illuminate multiple pixels per mask!"
   ]
  },
  {
   "cell_type": "markdown",
   "metadata": {},
   "source": [
    "#### You are ready to sign up for checkoff. DO NOT disassemble your circuit before checking off. Afterwards, you may take the Launchpad and circuit kit with you.\n",
    "\n",
    "**While you wait to be checked-off, try taking pictures at different frame rates. In the command:** `python capture_image.py -f 40`** the number after the `-f` flag is the frame rate, in this case in units of frames/second (fps). Experiment with different frames rates by changing the `40` to something (we recommend trying 20, 30, 60, and 70 fps). What happens to the quality of the picture as frame rate increase? Why might this be?**"
   ]
  },
  {
   "cell_type": "markdown",
   "metadata": {},
   "source": [
    "<a id='checkoff'></a>\n",
    "## Checkoff\n",
    "When you are ready to get checked off, please go to: https://goo.gl/forms/0gWz5atrac4Fyjii1. Fill out one form per person in your group. Follow the form exactly and submit. Your GSI or a Lab Assistant will come by once they are available and go through some checkoff questions with your group.\n",
    "\n",
    "Additionally, please fill out: https://goo.gl/forms/qIJyFbmeJU4emRay1. To log when your group has finished. Thanks!"
   ]
  },
  {
   "cell_type": "markdown",
   "metadata": {},
   "source": [
    "<a id='faq'></a>\n",
    "## FAQ\n",
    "* **Q: The screen jumps when connecting computer to Launchpad?**\n",
    "* A: Try reset button on Launchpad.\n",
    "\n",
    "* **Q: LED on Launchpad is not lighting up when connected to the computer?**\n",
    "* A: Connect the Launchpad to the other USB port.\n",
    "\n",
    "* **When running capture_image.py, you need to click on the projector’s screen past the right of the monitor before pressing enter.**"
   ]
  }
 ],
 "metadata": {
  "anaconda-cloud": {},
  "kernelspec": {
   "display_name": "Python 3",
   "language": "python",
   "name": "python3"
  },
  "language_info": {
   "codemirror_mode": {
    "name": "ipython",
    "version": 3
   },
   "file_extension": ".py",
   "mimetype": "text/x-python",
   "name": "python",
   "nbconvert_exporter": "python",
   "pygments_lexer": "ipython3",
   "version": "3.6.1"
  }
 },
 "nbformat": 4,
 "nbformat_minor": 1
}
