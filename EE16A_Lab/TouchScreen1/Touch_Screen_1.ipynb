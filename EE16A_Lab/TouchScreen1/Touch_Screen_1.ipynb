{
 "cells": [
  {
   "cell_type": "markdown",
   "metadata": {
    "collapsed": true
   },
   "source": [
    "# Touchscreen Lab 1: Soldering and LED Fader\n",
    "\n",
    "### EECS 16A: Designing Information Devices and Systems I, Spring 2017"
   ]
  },
  {
   "cell_type": "markdown",
   "metadata": {},
   "source": [
    "**Name 1**:\n",
    "\n",
    "**Login**: ee16a-\n",
    "\n",
    "\n",
    "**Name 2**:\n",
    "\n",
    "**Login**: ee16a-"
   ]
  },
  {
   "cell_type": "markdown",
   "metadata": {},
   "source": [
    "## Table of Contents\n",
    "\n",
    "* [Instructions](#instructions)\n",
    "* [Introduction](#intro)\n",
    "* [Task 1: LED Fader Circuit](#task1)\n",
    "* [Task 2: Building the Circuit](#task2)\n",
    "* [Task 3: Fading with Function Generator](#task3)\n",
    "* [Task 4: TI MSP430 Lauchpad + Energia](#task4)\n",
    "* [Task 5: Fading with Launchpad](#task5)"
   ]
  },
  {
   "cell_type": "markdown",
   "metadata": {},
   "source": [
    "<a id='instructions'></a>\n",
    "## Instructions\n",
    "* Complete this lab by filling in all of the required sections, marked with `\"YOUR CODE HERE\"` or `\"YOUR COMMENTS HERE\"`.\n",
    "\n",
    "* When you finish notify your GSI to get get checked off for this lab. Be ready to answer a few questions to show your understanding of each section.\n",
    "\n",
    "* Labs will be graded based on completion for teams of 2 students"
   ]
  },
  {
   "cell_type": "markdown",
   "metadata": {},
   "source": [
    "<a id='intro'></a>\n",
    "## Introduction\n",
    "Welcome to the first lab of the touchscreen module. In this module you will build 2 different touchscreen systems introduced in lecture. But before we can play around with the touchscreens, first we have to learn some hardware fundamentals. In today's lab we will be working with perhaps the simplest circuit that does work - an LED circuit. We will also give the circuit fading capabilities both using a physical component and using an Launchpad.\n",
    "\n",
    "In the next lab, we will build a resistive touchscreen with a 3x3 grid, and in the third lab we will build a single-touch capacitive touchscreen that employs a Capacitance Sharing sensing system. Lastly, in the final week we will explore a method to improve the quality of the output of our screens."
   ]
  },
  {
   "cell_type": "markdown",
   "metadata": {},
   "source": [
    "<h2>Printed Circuit Boards (PCB)</h2>\n",
    "<img src=\"http://www.bitweenie.com/wp-content/uploads/2013/02/LayerStackup.png\" align=\"center\">\n",
    "\n",
    "Circuit boards can be mass-produced in the form of PCBs. A PCB consists of conducting and non-conducting layers sandwiched together to connect components. Hollow holes lined with conductive material are used for fixing components onto the board. The diagram above contains only two conducting layers, as does the LED Fader PCB in your kits. More complicated PCBs may contain many more layers. The conductive traces in the PCB we are working on today are shown below in bright green.\n",
    "<br/><br/>\n",
    "\n",
    "<center>\n",
    "<img src=\"http://www-inst.eecs.berkeley.edu/~ee16a/sp15/Labs/touchscreen/nb_img/wk1_pcb_layout.png\" style=\"height:150px; display:inline-block;\">\n",
    "<img src=\"http://www-inst.eecs.berkeley.edu/~ee16a/sp15/Labs/touchscreen/nb_img/wk1_pcb.jpg\" style=\"height:150px; display:inline-block;\">\n",
    "</center>"
   ]
  },
  {
   "cell_type": "markdown",
   "metadata": {},
   "source": [
    "<h2>Light Emitting Diode (LED)</h2>\n",
    "<center>\n",
    "<img src=\"http://www-inst.eecs.berkeley.edu/~ee16a/sp15/Labs/touchscreen/nb_img/wk1_LED.jpg\" style=\"height:70px; display:inline-block;\">\n",
    "<img src=\"http://www.clker.com/cliparts/6/f/5/7/1197090733366797408vermeil_IEC_LED_Symbol.svg.hi.png\" style=\"height:50px; display:inline-block;\">\n",
    "</center>\n",
    "<br/>\n",
    "\n",
    "LEDs are elements that emit light when the voltage drop between its two terminals is above a certain value. When emitting light, the LED acts as a resistor with its resistance depending on the amount of current forced through it. Its brightness also depends on the current flowing through the terminals. An important characteristic of an LED is that it is a polarized device, so its two terminals are not identical. The triangular side of the LED symbol and the longer leg of the component is the positive (Anode) terminal of the device, while the flat side of the symbol and the shorter leg of the component corresponds to the negative (Cathode) terminal. In the PCB, the polarity is written as A and C respectively. \n",
    "\n",
    "The brightness of an LED is directly related to amount of current going through it; more current leads to higher brightness. To power an LED we apply a positive voltage between the Anode and Cathode terminals; this is called forward-biasing of a diode."
   ]
  },
  {
   "cell_type": "markdown",
   "metadata": {},
   "source": [
    "<h2>Potentiometer</h2>\n",
    "<center>\n",
    "<img src=\"http://www-inst.eecs.berkeley.edu/~ee16a/sp15/Labs/touchscreen/nb_img/wk1_potentiometer.jpg\" style=\"height:70px; display:inline-block;\">\n",
    "<img src=\"http://www.resistorguide.com/pictures/potentiometer-symbol-american.png\" style=\"height:70px; display:inline-block;\">\n",
    "</center>\n",
    "<br/>\n",
    "\n",
    "A potentiometer is a variable resistor with 3 terminals. As we turn the knob, the resistance between the middle terminal and either of the end terminals changes; as the resistance to one end terminal increases, the resistance to the other decreases. However, the resistance between the end terminals stay constant. In this lab we will be using a 10k$\\Omega$ potentiometer."
   ]
  },
  {
   "cell_type": "markdown",
   "metadata": {},
   "source": [
    "<a id='task1'></a>\n",
    "## <span style=\"color:blue\">Task 1: LED Fader Circuit</span>\n",
    "The PCB you are given corresponds to the circuit below. Let’s analyze the circuit.\n",
    "\n",
    "<center>\n",
    "<img src=\"http://www-inst.eecs.berkeley.edu/~ee16a/sp15/Labs/touchscreen/nb_img/wk1_circuit.png\" align=\"center\" style=\"height:256px\" />\n",
    "</center>"
   ]
  },
  {
   "cell_type": "markdown",
   "metadata": {},
   "source": [
    "**<span style=\"color:red\">Assuming the voltage drop across X1 is [0.7V or higher](https://learn.sparkfun.com/tutorials/diodes/real-diode-characteristics), what is the relationship between the current through X1 ($I_{X1}$) and the resistance of R1. What happens to the LED when R1 is increased?</span> Hint: click on the link provided in the question.**"
   ]
  },
  {
   "cell_type": "markdown",
   "metadata": {},
   "source": [
    "When current increases, resistance decreases (Ohm's Law). When R1 is increased, the current will decrease, causing the voltagew across+++++++++++++++++++++++++++++++++++++++++++++++++++++++++++++++++++++"
   ]
  },
  {
   "cell_type": "markdown",
   "metadata": {},
   "source": [
    "**<span style=\"color:red\">Can we completely turn off the LED when the power source is on? If so, how? Otherwise, why not?</span>**"
   ]
  },
  {
   "cell_type": "markdown",
   "metadata": {},
   "source": [
    "YOUR COMMENTS HERE"
   ]
  },
  {
   "cell_type": "markdown",
   "metadata": {},
   "source": [
    "<a id='task2'></a>\n",
    "## <span style=\"color:blue\">Task 2: Building the Circuit</span>\n",
    "\n",
    "#### Materials (each group member MUST build an LED fader)\n",
    "* PCB - kit\n",
    "* LED - kit\n",
    "* 10k$\\Omega$ potentiometer - kit\n",
    "* 2 male-male wires, stripped on both ends - GSI desk\n",
    "* Solder - GSI desk\n",
    "* Water (to wet sponge) - GSI desk\n",
    "* Power Supply Wires - Back wall\n",
    "\n",
    "In order to build our circuit, we first need to learn an important skill called soldering. [Soldering](http://en.wikipedia.org/wiki/Soldering) is a process in which two or more metal elements are joined together by melting and flowing solder into an electrical junction, or joint. Soldering is useful because it enables us to establish an electrical connection between two circuit elements, which gives us the ability to build a complete circuit. \n",
    "<br/>\n",
    "\n",
    "Important names and labels:\n",
    "the <em>soldering iron</em> is the pencil shaped tool that is used to apply heat. \n",
    "<em>Solder</em> is the metal filament that gets melted by the soldering iron and fills the gap between two circuit components. \n",
    "<br/>\n",
    "\n",
    "Soldering steps (repeat these steps for each joint):\n",
    "<ol>\n",
    "<li>Place your desired circuit element into the PCB. We typically place our solder joints underneath our circuit elements, so make sure there is an exposed metal ring surrounding the desired joint on the side of PCB opposite the side the element is resting on. Bend the component lead 45 degrees to fix it in place.</li>\n",
    "<li>Melt a small blob of solder on the tip of the soldering iron. This is called “tinning the tip” and it improves the transfer of heat from your soldering iron to the component you want to solder.</li>\n",
    "<li>Touch the tip of your soldering iron to the metal ring and component leg at the same time. (See diagram below)</li>\n",
    "<li>Feed solder **into the joint** (not the soldering iron) while this is happening. It should only take a couple of seconds at most to fill the joint with a proper amount of solder.</li>\n",
    "<li>After enough melted solder is present, stop feeding solder and remove the tip from the joint.</li>\n",
    "<li>Clean the tip of the soldering iron by dabbing the tip on a wet sponge.</li>\n",
    "<li>Let the joint cool down for at least 5 seconds and then trim the ends of the wire(s).</li>\n",
    "</ol>\n",
    "A good instruction video can be found here: https://www.youtube.com/watch?v=eU4t0Yko9Uk\n",
    "<br/>\n",
    "\n",
    "<center>\n",
    "<img src=\"http://www-inst.eecs.berkeley.edu/~ee16a/sp15/Labs/touchscreen/nb_img/wk1_soldering_tips.png\" align=\"center\" style=\"height:500px\" />\n",
    "</center>\n",
    "\n",
    "Before you start soldering, here are some important notes:\n",
    "<ul>\n",
    "<li>Remember that the LED is polarized. That means the two terminals are not identical. The longer leg corresponds to the positive terminal while the shorter corresponds to the negative terminal. The PCB labels the two LED terminals as C and A, for Cathode and Anode. Cathode is the negative terminal and Anode is the positive terminal.</li>\n",
    "<li>You also have to solder some wires to the GND and VDD (voltage supply) terminal. To test the circuit, connect these terminals to the Power Supply with a voltage between 3V and 5V. Don't forget to set the current limit to 0.1A!</li>\n",
    "<li>You can use the vice grip at you station to help hold your PCB.</li>\n",
    "</ul>\n",
    "**<span style=\"color:red\">Solder the fader circuit together.</span>** To do this, place the potentiometer and LED in the PCB (in the proper orientation). Solder each of these joints individually. Finally, solder a wire into the \"GND\" hole and solder another wire into the \"VDD\" hole.\n",
    "<span style=\"color:red\">When you are done soldering, you can fade the LED by twisting the potentiometer (you might need a flat object turn the screw, such as the corner of your Cal1 card).</span>\n",
    "\n",
    "\n",
    "Congratulations on your first PCB circuit!"
   ]
  },
  {
   "cell_type": "markdown",
   "metadata": {},
   "source": [
    "<a id='task3'></a>\n",
    "## <span style=\"color:blue\">Task 3: Automated Fading</span>\n",
    "\n",
    "#### Materials\n",
    "* PCB from Task 2\n",
    "* Function Generator - Station\n",
    "* Function Generator Cable - Back wall (not the same as Oscope probe!)\n",
    "* Oscope Probe - Back wall\n",
    "\n",
    "Unfortunately, right now you have to fade the LED manually... Well, we have machines to help with that..."
   ]
  },
  {
   "cell_type": "markdown",
   "metadata": {},
   "source": [
    "<h2> The Function Generator</h2>\n",
    "<center>\n",
    "<img src=\"http://inst.eecs.berkeley.edu/~ee16a/images/touchscreen_img/fung.jpg\" align=\"center\" style=\"height:200px\" />\n",
    "</center>\n",
    "The function generator is a useful tool that can be used to provide test inputs to your circuits. While the power supply is capable of giving you a fixed voltage, the function generator can output sine waves, square waves, and a variety of other waveforms that change over time. Here's how to use the Function Generator at your station:\n",
    "<br/><br/>\n",
    "\n",
    "1. Connect the Function Generator cable to the output port (right most port labeled \"Output\"). \n",
    "The function generator cable has thick wires with two smaller red and black wires exposed at one end. These correspond to positive and negative terminals respectively just like on the oscilloscope probes (e.g. for a 1V amplitude square wave the voltage difference between the red and black wires will alternate between +/- 1V).\n",
    "<br/><br/>\n",
    "\n",
    "2. Press the button in the top row corresponding to your desired waveform.\n",
    "<br/>\n",
    "Just like with the oscilloscope, buttons to the right of the screen bring up menus and the buttons at the bottom of the screen allow you to select options from those menus.\n",
    "<br/><br/>\n",
    "\n",
    "3. Use the Blue buttons below the LCD to adjust particular properties of the selected waveform.\n",
    "<br/>\n",
    "After pushing one of the blue buttons, you should see the LCD update to show that you're currently editing the parameter associated with that button. Both the number pad and the knob can be used to enter these values.\n",
    "<br/><br/>\n",
    "\n",
    "4. Press the \"Output\" button to toggle the output of the Function Generator.\n",
    "<br/>\n",
    "The output of the function generator is off by default. To test the output, hookup an Oscope probe to the ends of the Function Generator cable; remember that ground goes to ground.\n",
    "<br/><br/>"
   ]
  },
  {
   "cell_type": "markdown",
   "metadata": {},
   "source": [
    "**<span style=\"color:red\">Use the Function Generator to create a ramp/triangle-shaped wave between 0 and 5 Volts with a period of 3 seconds. That is, set Vpp = 5V and Period = 3s. </span>You can check whether your Function Generator behaves correctly using the Oscilloscope.**\n",
    "\n",
    "Next, connect the function generator to the leads of your circuit. When you are done, feel free to play around with other signal modes.\n",
    "\n",
    "**Please leave one of your PCBs connected to the Function Generator; this will speed-up checkoffs.**"
   ]
  },
  {
   "cell_type": "markdown",
   "metadata": {},
   "source": [
    "<a id='task4'></a>\n",
    "## <span style=\"color:blue\">Task 4: TI MSP430 Lauchpad + Energia </span>"
   ]
  },
  {
   "cell_type": "markdown",
   "metadata": {},
   "source": [
    "#### Materials\n",
    "* Launchpad\n",
    "* USB Cable\n",
    "\n",
    "The MSP-EXP430F5529LP LaunchPad is an evaluation module for the MSP430F5529 USB microcontroller. It provides easy access to different input/output (I/O) pins via the 40-pin access headers. The pinout diagram of the launchpad below shows the functionality of the different pins. The digital pins colored blue can only provide logic HIGH and logic LOW, they are known as the General-Purpose Input/Output (GPIO) pins. The analog input pins (used in the imaging lab) colored red can discretize analog signal to digital quantities, hence called analog to digital converters (ADC). Additionally, other pins that are used for serial communications such as Universal Asynchronous Receiver/Transmitter (UART), Inter-Integrated Circuit (I2C), and Serial Peripheral Interface (SPI) are also marked yellow, green, violet, respectively. \n",
    "\n",
    "<center>\n",
    "<img src=\"http://processors.wiki.ti.com/images/c/cd/MSP-EXP430F5529LP_QSG_PinOut.png\" align=\"center\" style=\"width:800 px\" />\n",
    "</center>\n",
    "\n",
    "We have been using Energia for programming the launchpad throughout the Imaging lab. energia provides and abstraction from hardware configurations to an Arduino programming environment. **<span style=\"color:red\"> For this task, modify the code in `alt_led_blink.ino` to alternatively blink LED1 and LED2 of the launchpad. </span>**\n",
    "**TIP: check the schematic for the connection to LED2.**\n",
    "\n",
    "Schematic for MSP-EXP430F5529LP launchPad hearders: \n",
    "\n",
    "<center>\n",
    "<img src=\"https://dl.dropboxusercontent.com/u/6426100/ee16a/msp_schematic.PNG\" align=\"center\" style=\"width:800 px\" />\n",
    "</center>  "
   ]
  },
  {
   "cell_type": "markdown",
   "metadata": {},
   "source": [
    "<a id='task5'></a>\n",
    "## <span style=\"color:blue\">Task 5: Fading with the Launchpad</span>\n",
    "\n",
    "#### Materials\n",
    "* PCB from task 2\n",
    "* Launchpad\n",
    "* USB Cable\n",
    "\n",
    "The Function Generator works nicely as it fades the LED all the way to off, but it is a little unnecessary for the task at hand. The Launchpad on the other hand can handle fading easily. \n",
    "\n",
    "**<span style=\"color:red\">Connect the Launchpad to the PC, then open the `led_fade.ino` file included in the lab zip. Complete the code in `led_fade.ino`. Finally, connect pin P2_5 on the Launchpad to the VDD wire of the circuit and GND on the Launchpad to the GND wire of the circuit.</span> Test your code.**"
   ]
  },
  {
   "cell_type": "markdown",
   "metadata": {},
   "source": [
    "**<span style=\"color:red\">Connect an oscilloscope probe across VDD and GND, i.e. in parallel, while the circuit is powered. Set the Oscope to autoscale and observe the waveform. Attempt to explain how to the Launchpad is fading the LED.</span>**"
   ]
  },
  {
   "cell_type": "markdown",
   "metadata": {},
   "source": [
    "The Launchpad is lowering the voltage in the circuit gradually to fade the LED, then ramping it back up."
   ]
  },
  {
   "cell_type": "markdown",
   "metadata": {},
   "source": [
    "**<span style=\"color:red\">If we were to go back to Task 3 and attempt to replicate what the Launchpad is doing, what would we need to do the Function Generator to get this work?</span> Hint: Consider using a square wave instead of a ramp/triangle. **"
   ]
  },
  {
   "cell_type": "markdown",
   "metadata": {},
   "source": [
    "We would set the graph on the Function Generator to a square wave with a period of 1 and amplitude of 5"
   ]
  },
  {
   "cell_type": "markdown",
   "metadata": {},
   "source": [
    "The Launchpad actually does not output analog signals - it can only output digital signals (0V and 5V). The fading effect is achieved by something called Pulse Width Modulation. For those of you who are interested in understanding how the Launchpad deals with this, <a href=\"http://arduino.cc/en/Tutorial/PWM\">this tutorial</a> explains the mechanism."
   ]
  },
  {
   "cell_type": "markdown",
   "metadata": {},
   "source": [
    "**Please leave one of your PCBs connected to the Launchpad; this will speed-up checkoffs.**"
   ]
  }
 ],
 "metadata": {
  "anaconda-cloud": {},
  "kernelspec": {
   "display_name": "Python 3",
   "language": "python",
   "name": "python3"
  },
  "language_info": {
   "codemirror_mode": {
    "name": "ipython",
    "version": 3
   },
   "file_extension": ".py",
   "mimetype": "text/x-python",
   "name": "python",
   "nbconvert_exporter": "python",
   "pygments_lexer": "ipython3",
   "version": "3.6.1"
  }
 },
 "nbformat": 4,
 "nbformat_minor": 1
}
