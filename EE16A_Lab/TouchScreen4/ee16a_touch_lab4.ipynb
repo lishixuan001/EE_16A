{
 "cells": [
  {
   "cell_type": "markdown",
   "metadata": {},
   "source": [
    "# Touchscreen Lab 4: Operational Amplifiers\n",
    "\n",
    "### EECS 16A: Designing Information Devices and Systems I, Summer 2017"
   ]
  },
  {
   "cell_type": "markdown",
   "metadata": {},
   "source": [
    "**Name 1**:\n",
    "\n",
    "**Login**: ee16a-\n",
    "\n",
    "\n",
    "**Name 2**:\n",
    "\n",
    "**Login**: ee16a-"
   ]
  },
  {
   "cell_type": "markdown",
   "metadata": {},
   "source": [
    "## Table of Contents\n",
    "* [Introduction](#intro)\n",
    "* [Task 1: Capacitive Touchpad Revisited](#task1)\n",
    "    * [Task 1a: Rebuilding the Circuit](#task1a)\n",
    "    * [Task 1b: Testing the Voltage Divider](#task1b)\n",
    "* [Task 2: Amplifier Background](#task2)\n",
    "* [Task 3: Adding the Speaker and the Amplifier to the Circuit](#task3)\n",
    "    * [Task 3a: Add the Amplifier](#task3a)\n",
    "    * [Task 3b: Add the Speaker](#task3b)"
   ]
  },
  {
   "cell_type": "markdown",
   "metadata": {},
   "source": [
    "## Check in\n",
    "Please check in here: https://goo.gl/forms/jl8p4VAAlkmLryiG3. This is purely to log time spent in lab. Consider this to be unofficial attendance. "
   ]
  },
  {
   "cell_type": "markdown",
   "metadata": {},
   "source": [
    "<a id='policies'></a>\n",
    "## Lab Policies\n",
    "* YOU MUST ATTEND THE LAB SECTION YOU ARE ENROLLED IN. \n",
    "\n",
    "* You are required to return all parts checked out at the beginning of the lab section unless told otherwise.\n",
    "\n",
    "* You are free to stay for the allotted time and hack around with the lab equipment, but please keep the GSI's time in mind and do not work on unrelated assignments.\n",
    "\n",
    "* ** Food and drinks are not allowed in the lab.**\n",
    "\n",
    "* **Clean up, turn off all equipment, and log off of computers before leaving.**"
   ]
  },
  {
   "cell_type": "markdown",
   "metadata": {},
   "source": [
    "<a id='intro'></a>\n",
    "## Introduction\n",
    "<img src=\"http://i.imgur.com/XSoNJLN.png\" width=\"70%\"/>\n",
    "Most electronic systems perform 3 major tasks: (1) Sense, (2) Process, and (3) Actuate. For sensing, sensors are used to transduce physical quantities to electrical signals. Then the electrical signal is conditioned and processed. Finally, actuators are used to transform the electrical signal to physical quantities. In this lab, we will use the capacitive touchpad you built last week to sense a touch, then the signal will be processed using a combination of additional circuit elements and a Launchpad. The last step will be to play a tune from the Launchpad using a speaker when the system detects a touch. \n",
    "\n",
    "This week's lab is a continuation of the Capacitive Touchscreen lab. We will expand the charge sharing circuit to include a voltage divider at the output. The goals of this lab are to deepen your understanding of amplifiers and to present a practical use-case scenario of an amplifier circuit."
   ]
  },
  {
   "cell_type": "code",
   "execution_count": 1,
   "metadata": {},
   "outputs": [
    {
     "data": {
      "image/jpeg": "[encoded data removed]",
      "text/html": [
       "\n",
       "        <iframe\n",
       "            width=\"400\"\n",
       "            height=\"300\"\n",
       "            src=\"https://www.youtube.com/embed/_qsvTPlK3B8\"\n",
       "            frameborder=\"0\"\n",
       "            allowfullscreen\n",
       "        ></iframe>\n",
       "        "
      ],
      "text/plain": [
       "<IPython.lib.display.YouTubeVideo at 0x10fb4ca20>"
      ]
     },
     "execution_count": 1,
     "metadata": {},
     "output_type": "execute_result"
    }
   ],
   "source": [
    "# Run this code to see a demo of what you can do in this lab! Credit: Thomas Rembert\n",
    "from IPython.display import YouTubeVideo\n",
    "YouTubeVideo('_qsvTPlK3B8')"
   ]
  },
  {
   "cell_type": "markdown",
   "metadata": {},
   "source": [
    "<a id='task1'></a>\n",
    "## <span style=\"color:blue\">Task 1: Capacitive Touchpad Revisited</span>\n",
    "<p>**Before we add additional components to our circuit, we first need a circuit to add a amplifier and a speaker to ...**</p>"
   ]
  },
  {
   "cell_type": "markdown",
   "metadata": {},
   "source": [
    "<a id='task1a'></a>\n",
    "## <span style=\"color:blue\">Task 1a: Rebuilding the Circuit</span>\n",
    "**<span style=\"color:red\">Rebuild the final circuit from Touch Lab 3 with slight modifications as shown in the circuit below. </span>**\n",
    "<img src=\"http://i.imgur.com/e6yYX5T.png\"width=\"70%\"/>\n",
    "\n",
    "### Materials & Equipment\n",
    "- Collect 4 resistors for the GSI desk: one 10k and three 5.1k.\n",
    "- Oscilloscope Probe - Back Wall\n",
    "\n",
    "### Power Connections\n",
    "\n",
    "**<span style=\"color:red\">Make sure the PSU Output is OFF when connecting power leads to your circuit. Additionally, make sure you connect the 12V leads to right location or you run the risk or frying your Launchpad!</span>**\n",
    "\n",
    "- Use the 5V pin from the launchpad to power the touch screen and the switching IC. \n",
    "- Use the +25V port of the power supply to power the Op Amp. **<span style=\"color:red\">Limit voltage to 12V and current to .030A. </span>**\n",
    "- Use the +6V port of the power supply to power Vref. **<span style=\"color:red\">Limit voltage to 3V and current to .030A. </span>**\n",
    "\n",
    "\n",
    "### Voltage Divider \n",
    "\n",
    "- Connect the 10k and 5.1k resistor at the output of the op amp (pin 1). Then connect pin 6.2 of the launchpad to the node connecting the two resistors. \n"
   ]
  },
  {
   "cell_type": "markdown",
   "metadata": {},
   "source": [
    "<a id='task1b'></a>\n",
    "## <span style=\"color:blue\">Task 1b: Testing the Voltage Divider</span>\n",
    "\n",
    "**<span style=\"color:red\">Test the circuit by running the `touch_speaker.ino` program on the Launchpad and confirming the Serial Monitor output is correct.</span>** You will need to tune the reference voltage, just like last lab.\n",
    "\n",
    "**<span style=\"color:red\">What is the purpose of the voltage divider? What is the maximum and minimum voltage expected at Pin P6.2 when the voltage divider is connected to the launchpad?</span>**"
   ]
  },
  {
   "cell_type": "markdown",
   "metadata": {},
   "source": [
    "YOUR ANSWER HERE"
   ]
  },
  {
   "cell_type": "markdown",
   "metadata": {},
   "source": [
    "<a id='task2'></a>\n",
    "## <span style=\"color:blue\">Task 2: Amplifier Overview</span>\n",
    "The purpose of an amplifier circuit is to amplify signals. In our case, we will be using the amplifier to amplify sound. The configuration we will use is the non-inverting configuration. In this configuration, the input voltage signal, $V_{in}$ is applied directly to the non-inverting ( + ) input terminal which means that the output gain of the amplifier becomes “Positive” in value in contrast to the “Inverting Amplifier” circuit whose output gain is negative in value.\n",
    "\n",
    "Feedback control of the non-inverting operational amplifier is achieved by applying a small part of the output voltage signal back to the inverting ( – ) input terminal via a $R_f$ & $R_2$ voltage divider network, again producing negative feedback. This closed-loop configuration produces a non-inverting amplifier circuit with very good stability, a very high input resistance, $R_{in}$ approaching infinity, as no current flows into the positive input terminal, (ideal conditions) and a low output resistance, $R_{out}$.\n",
    "\n",
    "<img src=\"http://i.imgur.com/5GxvJtK.gif\" width=\"40%\"/>\n",
    "\n",
    "**<span style=\"color:red\">Express $V_{out}$ as a function of $V_{in}$, $R_2$, and $R_f$.</span>**"
   ]
  },
  {
   "cell_type": "markdown",
   "metadata": {},
   "source": [
    "YOUR ANSWER HERE"
   ]
  },
  {
   "cell_type": "markdown",
   "metadata": {
    "collapsed": true
   },
   "source": [
    "<a id='task3'></a>\n",
    "## <span style=\"color:blue\">Task 3: Adding the Speaker and the Amplifier to the Circuit</span>\n",
    "<p>**In this task we will add the speaker and the amplifier to play a tune when the touchpad senses touch.**</p>"
   ]
  },
  {
   "cell_type": "markdown",
   "metadata": {},
   "source": [
    "<a id='task3a'></a>\n",
    "## <span style=\"color:blue\">Task 3a: Add the Amplifier</span>\n",
    "\n",
    "Now we will complete the rest of the circuit by adding the final amplifier. The LMC6482 contains two separate op-amps as well as pins for power and ground. We used one of the op-amps for the comparator circuit and now we will use the second op-amp for the amplifier circuit. Complete the circuit as shown below by adding the amplifier on the far right. \n",
    "\n",
    "<img src=\"http://i.imgur.com/JpIXEtZ.png\" height=\"100%\"/>\n",
    "\n",
    "**<span style=\"color:red\">`Note: The Op-Amp Package you're using contains two Op-Amps; one will be used for the Comparator, one will be used for the Amplifier.`</span>**\n",
    "\n",
    "<img src=\"http://www-inst.eecs.berkeley.edu/~ee16a/sp15/Labs/touchscreen/nb_img/wk3_lmc6482.png\" height=\"100px\"/>\n",
    "<center><span style=\"font-size:9pt;align:center\">Additional details: http://www.ti.com/lit/ds/symlink/lmc6482.pdf</span></center>\n",
    "\n",
    "**<span style=\"color:red\">If the voltage output at Pin P2.5 of Lauchpad is 5V, what will be the voltage at the output of the non-inverting amplifier connected to the speaker?</span>**"
   ]
  },
  {
   "cell_type": "markdown",
   "metadata": {},
   "source": [
    "YOUR ANSWER HERE"
   ]
  },
  {
   "cell_type": "markdown",
   "metadata": {},
   "source": [
    "<a id='task3b'></a>\n",
    "## <span style=\"color:blue\">Task 3b: Add the Speaker</span>\n",
    "\n",
    "Connect the speaker at the output of the op amp and test your setup by running the **`touch_speaker.ino`** program. Do you hear a tune when you touch the touch screen? \n",
    "\n",
    "**<span style=\"color:red\">Now connect the non-grounded lead of the speaker directly to the P2.5 of the Lauchpad. Is there any difference of the sound level with and without the amplifier circuit?</span>**"
   ]
  },
  {
   "cell_type": "markdown",
   "metadata": {},
   "source": [
    "YOUR ANSWER HERE"
   ]
  },
  {
   "cell_type": "markdown",
   "metadata": {},
   "source": [
    "### **Optional**: Look at the code for the mario music. Edit or make a new file to play your own music\n",
    "\n",
    "Take a video and post to piazza for us all to see!"
   ]
  },
  {
   "cell_type": "markdown",
   "metadata": {},
   "source": [
    "<a id='checkoff'></a>\n",
    "## Checkoff\n",
    "When you are ready to get checked off, please go to: https://goo.gl/forms/0gWz5atrac4Fyjii1. Fill out one form per person in your group. Follow the form exactly and submit. Your GSI or a Lab Assistant will come by once they are available and go through some checkoff questions with your group.\n",
    "\n",
    "Additionally, please fill out: https://goo.gl/forms/qIJyFbmeJU4emRay1. To log when your group has finished. Thanks!\n",
    "\n",
    "**Please return your speaker to the round table after you are done**"
   ]
  }
 ],
 "metadata": {
  "anaconda-cloud": {},
  "kernelspec": {
   "display_name": "Python 3",
   "language": "python",
   "name": "python3"
  },
  "language_info": {
   "codemirror_mode": {
    "name": "ipython",
    "version": 3
   },
   "file_extension": ".py",
   "mimetype": "text/x-python",
   "name": "python",
   "nbconvert_exporter": "python",
   "pygments_lexer": "ipython3",
   "version": "3.6.1"
  }
 },
 "nbformat": 4,
 "nbformat_minor": 1
}
