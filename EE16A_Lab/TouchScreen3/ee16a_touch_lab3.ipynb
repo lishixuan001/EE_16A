{
 "cells": [
  {
   "cell_type": "markdown",
   "metadata": {},
   "source": [
    "# Touchscreen Lab 3: Capacitive Touchscreen\n",
    "\n",
    "### EECS 16A: Designing Information Devices and Systems I, Summer 2017"
   ]
  },
  {
   "cell_type": "markdown",
   "metadata": {},
   "source": [
    "**Name 1**:\n",
    "\n",
    "**Login**: ee16a-\n",
    "\n",
    "\n",
    "**Name 2**:\n",
    "\n",
    "**Login**: ee16a-"
   ]
  },
  {
   "cell_type": "markdown",
   "metadata": {},
   "source": [
    "\n",
    "## Table of Contents\n",
    "* [Introduction](#overview)\n",
    "* [Task 1: Building The Touchpad](#task1)\n",
    "* [Task 2a: Understanding Charge-sharing](#task2a)\n",
    "* [Task 2b: Automatic Switching](#task2b)\n",
    "* [Task 2c: Finishing the Circuit](#task2c)\n",
    "* [Task 3: Launchpad Control and Sensing](#task3)"
   ]
  },
  {
   "cell_type": "markdown",
   "metadata": {},
   "source": [
    "## Check in\n",
    "Please check in here: https://goo.gl/forms/jl8p4VAAlkmLryiG3. This is purely to log time spent in lab. Consider this to be unofficial attendance. "
   ]
  },
  {
   "cell_type": "markdown",
   "metadata": {},
   "source": [
    "<a id='instructions'></a>\n",
    "## Instructions\n",
    "* Complete this lab by filling in all of the required sections, marked with `\"YOUR CODE HERE\"` or `\"YOUR COMMENTS HERE\"`.\n",
    "\n",
    "* When you finish, submit a checkoff request to the Remote Checkoff System. Be ready to answer a few questions to show your understanding of each section.\n",
    "\n",
    "* Labs will be graded based on completion for teams of 2 students.\n"
   ]
  },
  {
   "cell_type": "markdown",
   "metadata": {},
   "source": [
    "<a id='policies'></a>\n",
    "## Lab Policies\n",
    "* YOU MUST ATTEND THE LAB SECTION YOU ARE ENROLLED IN. If you anticipate missing a section please notify your GSI in advance.\n",
    "\n",
    "* You are required to return all parts checked out at the beginning of the lab section unless told otherwise.\n",
    "\n",
    "* You are free to stay for the allotted time and hack around with the lab equipment, but please keep the GSI's time in mind and do not work on unrelated assignments.\n",
    "\n",
    "* ** Food and drinks are not allowed in the lab.**\n",
    "\n",
    "* **Clean up, turn off all equipment, and log off of computers before leaving.**"
   ]
  },
  {
   "cell_type": "markdown",
   "metadata": {},
   "source": [
    "<a id='overview'></a>\n",
    "## Introduction\n",
    "The resistive touch screen you built last week is well-suited for devices using a stylus because the screen has to be deformed in order to sense a touch. Resistive touch screens are also well suited for computer peripherals, such as keyboards, to sense button presses. However, a lot of devices don't require a stylus or a hard press; this is where capacitive touch screens save the day.\n",
    "<br/>\n",
    "\n",
    "## Sensing a Touch \n",
    "<br/>\n",
    "Today, we will be implementing a capacitive touchscreen. We will build a capacitor at a junction and measure the capacitance at that point. When you touch the top copper plate, your finger adds additional capacitance between the bottom plate (ground) and your finger, resulting in two capacitors in parallel. We can measure this increase in capacitance quite easily; as we have learned, parallel capacitances add up. We can measure this change in capacitance at first with  a multimeter, then a charge sharing circuit."
   ]
  },
  {
   "cell_type": "markdown",
   "metadata": {},
   "source": [
    "<a id='task1'></a>\n",
    "## <span style=\"color:blue\">Task 1: Building The Touchpad</span>\n",
    "\n",
    "#### Materials & Equipment\n",
    "* Microscope glass slide - GSI Desk\n",
    "* Two strips of copper (1 long and 1 short) - GSI Desk\n",
    "* Scotch tape (~ 4 inches) - GSI Desk\n",
    "* Wires - GSI Desk\n",
    "* Solder - GSI Desk\n",
    "* Multimeter Wires - Back wall\n",
    "\n",
    "Let's first build a capacitive touchpad from strips of copper and a glass slide. We also need a dielectric material to separate the two copper strips; the dielectric material we will be using is Scotch tape. Strip your two wires, and let's get started!\n",
    "\n",
    "To build the first layer, lay one copper strip down on the glass; **remove the white tape on the copper to expose the adhesive.** Apply a layer of scotch tape on the copper exposing a bit of one side.\n",
    "\n",
    "<center>\n",
    "\n",
    "<img src=\"http://i.imgur.com/8Y4wwze.jpg\" style=\"height:170px; display:inline-block;\">\n",
    "</center>\n",
    "\n",
    "\n",
    "Place the other copper strip over the first so they are perpendicular; **remove the white tape on the copper to expose the adhesive.**\n",
    "\n",
    "<center>\n",
    "<img src=\"http://i.imgur.com/eupgrX3.jpg\" style=\"height:170px; display:inline-block;\">\n",
    "</center>\n",
    "<br/>\n",
    "\n",
    "Finally, solder wires to the exposed copper area as shown below. \n",
    "\n",
    "<center>\n",
    "<img src=\"http://i.imgur.com/wiQmVip.jpgg\" style=\"height:170px; display:inline-block;\">\n",
    "</center>\n",
    "<br/>\n",
    "\n",
    "**<span style=\"color:red\">Use the multimeter to measure the capacitance of the touchpad. How does it change when you touch it?</span>**"
   ]
  },
  {
   "cell_type": "markdown",
   "metadata": {},
   "source": [
    "`Original: 0.106; Touch: 0.265`"
   ]
  },
  {
   "cell_type": "markdown",
   "metadata": {},
   "source": [
    "# <a id='task2a'></a>\n",
    "## <span style=\"color:blue\">Task 2a: Understanding Charge-sharing</span>\n",
    "\n",
    "The fundamental equation that relates capacitance, charge, and voltage is:\n",
    "<br/>\n",
    "\n",
    "<h3 align=\"center\">$Q=CV$</h3> \n",
    "\n",
    "Explained in words, if you put a voltage V across a capacitor with capacitance C, a charge of Q develops on each plate of the capacitor. As we learned in the last section, touching the pad changes its capacitance (C). Therefore, to determine if the touchpad has been touched, all we need to do is measure the charge (Q). \n",
    "\n",
    "\n",
    "In the example below, we charge $C_x$ (which in practice will be our capacitive touchpad) using the voltage rail $V_{DD}$.\n",
    "\n",
    "<img src=\"http://inst.eecs.berkeley.edu/~ee16a/images/touchscreen_img/cap_touch/CapDiv1.JPG\" align=\"center\" style=\"height:300px\">\n",
    "\n",
    "If we disconnect the top plate of $C_x$ from the voltage source, the charge is retained on each plate of $C_x$ (and will still be equal to $C_xV_{DD}$ based on our equation). If we then connect the top plate of $C_x$ to another capacitor $C_2$, we have created a pair of parallel capacitors as shown in the image below. \n",
    "\n",
    "<img src=\"http://inst.eecs.berkeley.edu/~ee16a/images/touchscreen_img/cap_touch/CapDiv3.JPG\" align=\"center\" style=\"height:300px\">\n",
    "\n",
    "\n",
    "As we've learned, two capacitors in parallel create a larger effective capacitance, $C_{total} = C_x + C_2$. We also know that the charge in the circuit remains constant because we did not let any charge flow into or out of the circuit. $Q = CV$ must remain true, so since $C$ increased, and $Q$ remained constant, the voltage across both of the capacitors $V_x$ must change. "
   ]
  },
  {
   "cell_type": "markdown",
   "metadata": {},
   "source": [
    "**<span style=\"color:red\">What is the value of $V_x$ after the above steps have been taken? Your answer should be a function of $V_{DD}, C_x,$ and $C_2$.**"
   ]
  },
  {
   "cell_type": "markdown",
   "metadata": {},
   "source": [
    "`YOUR ANSWER HERE`"
   ]
  },
  {
   "cell_type": "markdown",
   "metadata": {},
   "source": [
    "**<span style=\"color:red\">Rearrange your answer above and solve for $C_x$.**\n"
   ]
  },
  {
   "cell_type": "markdown",
   "metadata": {},
   "source": [
    "`YOUR ANSWER HERE`"
   ]
  },
  {
   "cell_type": "markdown",
   "metadata": {},
   "source": [
    "For this lab we will be controlling the charging and discharging of these capacitors with a set of switches. The process is outlined below:\n",
    "<br/>\n",
    "<br/>\n",
    "### 1. Make sure both capacitors are discharged.\n",
    "We begin by connecting the Clean switch to GND to make sure both capacitors are completely discharged.\n",
    "<img src=\"http://inst.eecs.berkeley.edu/~ee16a/images/touchscreen_img/touch_pics/wk3_circuit_discharge_new.png\" align=\"center\" style=\"height:300px\">\n",
    "\n",
    "### 2. Disconnect the short to GND used for discharging.\n",
    "Now that the capacitors are completely discharged, we can remove the connection to ground.\n",
    "<img src=\"http://inst.eecs.berkeley.edu/~ee16a/images/touchscreen_img/touch_pics/wk3_circuit_stop_discharge_new.png\" align=\"center\" style=\"height:300px\">\n",
    "\n",
    "### 3. Charge the $C_{touchscreen}$ capacitor to 5V.\n",
    "Next we connect the capacitor to a voltage source and charge it to 5V.\n",
    "<img src=\"http://inst.eecs.berkeley.edu/~ee16a/images/touchscreen_img/touch_pics/wk3_circuit_charge_new.png\" align=\"center\" style=\"height:300px\">\n",
    "\n",
    "### 4. Share charge between $C_{touchscreen}$ and $C_2$. \n",
    "<img src=\"http://inst.eecs.berkeley.edu/~ee16a/images/touchscreen_img/touch_pics/wk3_circuit_read_new.png\" align=\"center\" style=\"height:300px\">"
   ]
  },
  {
   "cell_type": "markdown",
   "metadata": {},
   "source": [
    "**<span style=\"color:red\">When the drive switch is closed (OUT connected to X) after $C_{touchscreen}$ is charged, how much total charge $Q$ is available to the system?**"
   ]
  },
  {
   "cell_type": "markdown",
   "metadata": {},
   "source": [
    "`5v * Cx`"
   ]
  },
  {
   "cell_type": "markdown",
   "metadata": {},
   "source": [
    "**<span style=\"color:red\">Assuming the steps above are performed in order, given $C_{touchscreen} = 22pF$, calculate the voltage across the OUT pin of the Clean Switch and Ground at the end of step 4.**"
   ]
  },
  {
   "cell_type": "markdown",
   "metadata": {},
   "source": [
    "`2.5v`"
   ]
  },
  {
   "cell_type": "markdown",
   "metadata": {},
   "source": [
    "**<span style=\"color:red\">As explained above, we can model a touch as placing an additional capacitor $C_{finger}$, also connected to ground, in parallel with $C_{touchscreen}$. Calculate the voltage across the OUT pin of the Clean Switch and Ground at the end of step 4 for $C_{touchscreen} = C_{finger} = 22pF$. How do you expect this output voltage to change when you touch the screen?</span>**"
   ]
  },
  {
   "cell_type": "markdown",
   "metadata": {},
   "source": [
    "`10/3v`"
   ]
  },
  {
   "cell_type": "markdown",
   "metadata": {},
   "source": [
    "<a id='task2b'></a>\n",
    "## <span style=\"color:blue\">Task 2b: Automatic Switching</span>\n",
    "**Your task is to build the capactive touchpad sensing circuit. The section below will walk you through building the circuit depicted in Steps 1-4.**\n",
    "\n",
    "#### Materials\n",
    "* Touchpad - From 2a\n",
    "* Launchpad MSP430 - Kit\n",
    "* Breadboard - Kit\n",
    "* 22pF capacitor - Kit \n",
    "* 1 CD4053BM switch - Kit\n",
    "* More Wires - GSI Desk\n",
    "* Power Supply Wires - Back Wall\n",
    "* Oscilloscope Probe (don't forget to test!) - Back Wall\n",
    "\n",
    "\n",
    "Note: The 22pf capacitor looks like this. It should be round, orange, and have **\"22\"** written on it.\n",
    "<img src=\"http://projectshopbd.com/wp-content/uploads/2015/11/22pf-50v-ceramic-capacitors_large.png\" align=\"center\" style=\"height:100px\">\n",
    "\n",
    "The capacitors in this circuit will discharge within a few milliseconds. Therefore, we need to automate the switching process for the touchscreen to work. In order to change the switches rapidly, we will use the CD4053BM [integrated circuit](http://en.wikipedia.org/wiki/Integrated_circuit) (IC). This chip contains 3 voltage-controlled switches.\n",
    "<br/><br/>\n",
    "Look at the images below. Each of those blue circles represents a different terminal of the switch. By using the Launchpad to rapidly change the voltage on the CTRL (control) terminal, we will change which terminal (`x` or `y`) is connected to the switch output. \n",
    "<br/><br/>\n",
    "\n",
    "When the control is a high voltage (near 5V [$V_{DD}$]), the `Y` terminal is connected to the output and `X` is left disconnected. When the control voltage is low (near 0V [GND]), `X` is connected to the output and `Y` is left disconnected. Since we always have a conduction path (the `OUT` pin is always connected to something), we can also view this switch as a two-state switch: \n",
    "\n",
    "<center>\n",
    "<img src=\"http://inst.eecs.berkeley.edu/~ee16a/images/touchscreen_img/cap_touch/touch_switches.JPG\" align=\"center\" style=\"height:300px\">\n",
    "</center>\n",
    "<br/>\n",
    "\n",
    "\n",
    "The CD4053 IC contains three of these voltage-controlled switches in a single IC unit, but we will only need two of them for the full touchscreen circuit as shown above. Below is a table of how the pins of the chip are related to the switches. Remember when mounting the switch controller to have the two sides of it mounted over the middle section of the breadboard as to not short the pins across from each other.\n",
    "\n",
    "<img src=\"http://i.imgur.com/bsCOwWh.png\" align=\"center\" style=\"height:400px\">\n",
    "<center><span style=\"font-size:9pt;align:center\">Additional details: http://www.ti.com/lit/ds/symlink/cd4051b.pdf</span></center>\n",
    "<br/>\n",
    "\n",
    "On top of these, pin 6 is the inhibit  signal, which should always be grounded for the circuit; pins 7 and 8 are the negative power supply pins, which should also be grounded in this circuit; and pin 16 is the positive power supply pin, which should be connected to 5V. The following chart lays out the pin configuration for the IC. \n",
    "\n",
    "<br/>\n",
    "\n",
    "<center><table>\n",
    "<tr><th>Switch</th><th>X</th><th>Y</th><th>OUT</th><th>Control</th></tr>\n",
    "<tr><td>A</td><td>12</td><td>13</td><td>14</td><td>11</td></tr>\n",
    "<tr><td>B</td><td>2</td><td>1</td><td>15</td><td>10</td></tr>\n",
    "<tr><td>C</td><td>5</td><td>3</td><td>4</td><td>9</td></tr>\n",
    "</table></center>\n",
    "<br/>\n",
    "If you want to read more about this IC, <a href=\"http://inst.eecs.berkeley.edu/~ee16a/sp15/Labs/touchscreen/CD4051BC.PDF\" target=\"_blank\">here</a> is the datasheet.\n",
    "<br/>"
   ]
  },
  {
   "cell_type": "markdown",
   "metadata": {},
   "source": [
    "<h3 style=\"color:blue\">Set up the charging switch.</h3>\n",
    "\n",
    "**<span style=\"color:red\"> 1. Connect 5V from the +25V output of the power supply to $V_{DD}$ (pin 16) and GND to INH (pin 6), $V_{EE}$ (pin 7), and $V_{SS}$ (pin 8). Set the current limits on the power supply to 100mA.</span>**\n",
    "<br/>\n",
    "Make sure the IC is oriented correctly. The small indentation on one side or corner of the chip marks the top. The top left pin is always numbered `1`, and the numbers increase counterclockwise around the chip.\n",
    "\n",
    "**<span style=\"color:red\"> 2. Next, build the circuit shown below using switch B on the CD4053BM chip. Note that $C_{touchscreen}$ refers to the touchpad from [Task 1](#task1).</span>**\n",
    "<img src=\"http://www-inst.eecs.berkeley.edu/~ee16a/sp15/Labs/touchscreen/nb_img/wk3_single_switch.png\" align=\"center\" style=\"height:300px\">\n",
    "\n",
    "**<span style=\"color:red\"> 3. Connect pin 6.0 of the Launchpad to Pin 10 on the CD4053BM chip, and connect one of the Launchpad's ground pins to the ground of the power supply. Open Energia and upload the provided `switch_test.ino` program to the Launchpad.</span>**\n",
    "\n",
    "**<span style=\"color:red\"> 4. Use the oscilloscope to measure the voltage across $C_{2}$ and zoom in to see the capacitor discharging. Does a touch give you the same behavior you solved for in [Task 2a](#task2a)?.</span>**\n"
   ]
  },
  {
   "cell_type": "markdown",
   "metadata": {},
   "source": [
    "`YOUR ANSWER HERE`"
   ]
  },
  {
   "cell_type": "markdown",
   "metadata": {},
   "source": [
    "<a id='task2c'></a>\n",
    "## <span style=\"color:blue\">Task 2c: Finishing the Circuit</span>\n",
    "#### Materials\n",
    "* Circuit from 2b\n",
    "* Power Supply Wires\n",
    "* 1 LMC6482 operational amplifier - Kit\n",
    "\n",
    "In step 4 of the circuit presented in task 2a, we must measure the output voltage against a reference to determine if the screen was touched. We will introduce what is known as a \"comparator\" to accomplish this task. The comparator, as mentioned in lecture, can be implemented using a single op-amp. Our final circuit will look like this following:\n",
    "\n",
    "### 1. Make sure both capacitors are discharged.\n",
    "We begin by connecting the Clean switch to GND to make sure both capacitors are completely discharged.\n",
    "<img src=\"http://inst.eecs.berkeley.edu/~ee16a/sp15/Labs/touchscreen/nb_img/wk3_circuit_discharge.png\" align=\"center\" style=\"height:300px\">\n",
    "\n",
    "### 2. Disconnect the short to GND used for discharging.\n",
    "Now that the capacitors are completely discharged, we can remove the connection to ground.\n",
    "<img src=\"http://inst.eecs.berkeley.edu/~ee16a/sp15/Labs/touchscreen/nb_img/wk3_circuit_stop_discharge.png\" align=\"center\" style=\"height:300px\">\n",
    "\n",
    "### 3. Charge the $C_{touchscreen}$ capacitor to 5V.\n",
    "Next we connect the capacitor to a voltage source and charge it to 5V.\n",
    "<img src=\"http://inst.eecs.berkeley.edu/~ee16a/sp15/Labs/touchscreen/nb_img/wk3_circuit_charge.png\" align=\"center\" style=\"height:300px\">\n",
    "\n",
    "### 4. Share charge between $C_{touchscreen}$ and $C_2$. Measure the voltage against the reference to determine if the screen was touched.\n",
    "<img src=\"http://inst.eecs.berkeley.edu/~ee16a/sp15/Labs/touchscreen/nb_img/wk3_circuit_read.png\" align=\"center\" style=\"height:300px\">\n",
    "\n",
    "### Put together, here is the entire process in one animation. Notice how the circuit cycles from discharging to charging to reading to resetting.\n",
    "<img src=\"http://inst.eecs.berkeley.edu/~ee16a/images/touchscreen_img/output_FaOzxE.gif\" align=\"center\" style=\"height:300px\">\n",
    "\n",
    "The output of the charge sharing circuit should be connected to an op-amp. The LMC6482 contains two separate op-amps as well as pins for power and ground:\n",
    "\n",
    "<img src=\"http://www-inst.eecs.berkeley.edu/~ee16a/sp15/Labs/touchscreen/nb_img/wk3_lmc6482.png\" height=\"100px\"/>\n",
    "<center><span style=\"font-size:9pt;align:center\">Additional details: http://www.ti.com/lit/ds/symlink/lmc6482.pdf</span></center>"
   ]
  },
  {
   "cell_type": "markdown",
   "metadata": {},
   "source": [
    "<span style=\"color:red\">Build the remainder of the circuit shown above... but</span> \n",
    "<strong style=\"color:red\">DO NOT TURN IT ON YET</strong>.\n",
    "* Use <strong>switch A as the clean switch</strong> (connect Pin 11 on the CD4053 to pin <strong>6.1</strong> of the Launchpad)\n",
    "* Use <strong>op-amp A</strong> on the LMC6482 (connect Pin 1 on the LMC6482 to pin <strong>6.2</strong> on the Launchpad)\n",
    "* Connect the LMC6482 to appropriate Power and GND rails. \n",
    "* Use the +6V supply for the tunable reference voltage $V_{ref}$. You may need to adjust the value from what you calculated earlier. Do not forget to set the current limits on the power supply to around 100mA.\n",
    "\n",
    "**<span style=\"color:red\"> THIS IS VERY IMPORTANT MAKE SURE YOU READ THIS!!!\n",
    "The Launchpad code assumes that Pin 6.0 is hooked up to the Drive Switch control (Pin 10 on the CD4053), Pin 6.1 is connected to the Clean Switch control (Pin 11 on the CD4053), and Pin 6.2 is connected to the output of the Op-Amp (Pin 1 on the LMC6482). THE SCREEN WILL NOT WORK IF THESE PINS ARE PLACED WRONG!</span>**\n",
    "\n",
    "Here is the Switch IC schematic again for your convenience:\n",
    "<img src=\"http://i.imgur.com/bsCOwWh.png\" align=\"center\" style=\"height:400px\">\n",
    "<center><span style=\"font-size:9pt;align:center\">Additional details: http://www.ti.com/lit/ds/symlink/cd4051b.pdf</span></center>\n",
    "<br/>\n",
    "<center><table>\n",
    "<tr><th>Switch</th><th>X</th><th>Y</th><th>OUT</th><th>Control</th></tr>\n",
    "<tr><td>A</td><td>12</td><td>13</td><td>14</td><td>11</td></tr>\n",
    "<tr><td>B</td><td>2</td><td>1</td><td>15</td><td>10</td></tr>\n",
    "<tr><td>C</td><td>5</td><td>3</td><td>4</td><td>9</td></tr>\n",
    "</table></center>\n",
    "<br/>"
   ]
  },
  {
   "cell_type": "markdown",
   "metadata": {},
   "source": [
    "## Leakage current and parasitic capacitances\n",
    "\n",
    "What we are building should work well in theory. However, due to imperfect components and breadboard, we get additional resistances and capacitances that change our measured voltage. Luckily, our goal is just to determine the voltage difference between an untouched and a touched pad. As we have discussed before, the reference voltage $V_{ref}$ needs to be tuned to a threshold voltage between the touched and untouched voltage. The voltage at the positive input terminal of the op-amp, however is not a constant voltage. Due to internal resistance and capacitances, it actually decays exponentially. To remedy this, we let a couple milliseconds pass so the output readings are cleaner. This is reflected in the Launchpad control code."
   ]
  },
  {
   "cell_type": "markdown",
   "metadata": {},
   "source": [
    "<a id='task3'></a>\n",
    "## <span style=\"color:blue\">Task 3: LaunchPad Control and Sensing</span>\n",
    "\n",
    "#### Materials\n",
    "* Breadboard Circuit and Touchpad from Previous Sections\n",
    "* LaunchPad\n",
    "* Wires\n",
    "\n",
    "After you have built your circuit, upload the provided **`Read_Touchscreen.ino`** file to the Launchpad. Run the Serial Monitor from Tools > Serial Monitor to see the readings from Pin 6.2. Adjust $V_{ref}$ using the power supply so that the output reading changes from below 2.5V when the touchpad is untouched to above 2.5V when the touchpad is touched. This may require precise tuning of $V_{ref}$ down to tens of millivolts. \n",
    "<br/>\n",
    "\n",
    "To make the readings more robust, we read multiple times and average the results before outputting any result; this ensures that we are not outputting results based on bad data. You can read through the code provided to see how it works. Note that the onboard LED is also set to turn on when a touch is detected.\n",
    "\n",
    "**<span style=\"color:red\">Show your GSI that your final circuit can detect and display when you've touched that pad.</span>**"
   ]
  },
  {
   "cell_type": "markdown",
   "metadata": {},
   "source": [
    "<a id='checkoff'></a>\n",
    "## Checkoff\n",
    "When you are ready to get checked off, please go to: https://goo.gl/forms/0gWz5atrac4Fyjii1. Fill out one form per person in your group. Follow the form exactly and submit. Your GSI or a Lab Assistant will come by once they are available and go through some checkoff questions with your group.\n",
    "\n",
    "Additionally, please fill out: https://goo.gl/forms/qIJyFbmeJU4emRay1. To log when your group has finished. Thanks!"
   ]
  }
 ],
 "metadata": {
  "anaconda-cloud": {},
  "kernelspec": {
   "display_name": "Python 3",
   "language": "python",
   "name": "python3"
  },
  "language_info": {
   "codemirror_mode": {
    "name": "ipython",
    "version": 3
   },
   "file_extension": ".py",
   "mimetype": "text/x-python",
   "name": "python",
   "nbconvert_exporter": "python",
   "pygments_lexer": "ipython3",
   "version": "3.6.1"
  }
 },
 "nbformat": 4,
 "nbformat_minor": 1
}
